{
  "nbformat": 4,
  "nbformat_minor": 0,
  "metadata": {
    "colab": {
      "provenance": []
    },
    "kernelspec": {
      "name": "python3",
      "display_name": "Python 3"
    },
    "language_info": {
      "name": "python"
    }
  },
  "cells": [
    {
      "cell_type": "code",
      "execution_count": 11,
      "metadata": {
        "colab": {
          "base_uri": "https://localhost:8080/"
        },
        "id": "EtWCm-Uyouvl",
        "outputId": "e62b05a3-5ed3-4861-d3e7-499aa33eae87"
      },
      "outputs": [
        {
          "output_type": "stream",
          "name": "stdout",
          "text": [
            "Drive already mounted at /content/drive; to attempt to forcibly remount, call drive.mount(\"/content/drive\", force_remount=True).\n"
          ]
        }
      ],
      "source": [
        "from google.colab import drive\n",
        "drive.mount('/content/drive')\n"
      ]
    },
    {
      "cell_type": "code",
      "source": [
        "import pandas as pd\n",
        "\n",
        "# Load the CSV file\n",
        "df = pd.read_csv('/content/drive/MyDrive/amazon.csv')\n",
        "\n",
        "# Display column names and the first few rows of the dataframe\n",
        "print(df.columns)\n",
        "print(df.head())\n",
        "\n"
      ],
      "metadata": {
        "colab": {
          "base_uri": "https://localhost:8080/"
        },
        "id": "eiKv0Aa9pQcW",
        "outputId": "f5cb9706-b87e-4fd0-b271-4481593b6372"
      },
      "execution_count": 12,
      "outputs": [
        {
          "output_type": "stream",
          "name": "stdout",
          "text": [
            "Index(['product_id', 'product_name', 'category', 'discounted_price',\n",
            "       'actual_price', 'discount_percentage', 'rating', 'rating_count',\n",
            "       'about_product', 'user_id', 'user_name', 'review_id', 'review_title',\n",
            "       'review_content', 'img_link', 'product_link'],\n",
            "      dtype='object')\n",
            "   product_id                                       product_name  \\\n",
            "0  B07JW9H4J1  Wayona Nylon Braided USB to Lightning Fast Cha...   \n",
            "1  B098NS6PVG  Ambrane Unbreakable 60W / 3A Fast Charging 1.5...   \n",
            "2  B096MSW6CT  Sounce Fast Phone Charging Cable & Data Sync U...   \n",
            "3  B08HDJ86NZ  boAt Deuce USB 300 2 in 1 Type-C & Micro USB S...   \n",
            "4  B08CF3B7N1  Portronics Konnect L 1.2M Fast Charging 3A 8 P...   \n",
            "\n",
            "                                            category discounted_price  \\\n",
            "0  Computers&Accessories|Accessories&Peripherals|...             ₹399   \n",
            "1  Computers&Accessories|Accessories&Peripherals|...             ₹199   \n",
            "2  Computers&Accessories|Accessories&Peripherals|...             ₹199   \n",
            "3  Computers&Accessories|Accessories&Peripherals|...             ₹329   \n",
            "4  Computers&Accessories|Accessories&Peripherals|...             ₹154   \n",
            "\n",
            "  actual_price discount_percentage rating rating_count  \\\n",
            "0       ₹1,099                 64%    4.2       24,269   \n",
            "1         ₹349                 43%    4.0       43,994   \n",
            "2       ₹1,899                 90%    3.9        7,928   \n",
            "3         ₹699                 53%    4.2       94,363   \n",
            "4         ₹399                 61%    4.2       16,905   \n",
            "\n",
            "                                       about_product  \\\n",
            "0  High Compatibility : Compatible With iPhone 12...   \n",
            "1  Compatible with all Type C enabled devices, be...   \n",
            "2  【 Fast Charger& Data Sync】-With built-in safet...   \n",
            "3  The boAt Deuce USB 300 2 in 1 cable is compati...   \n",
            "4  [CHARGE & SYNC FUNCTION]- This cable comes wit...   \n",
            "\n",
            "                                             user_id  \\\n",
            "0  AG3D6O4STAQKAY2UVGEUV46KN35Q,AHMY5CWJMMK5BJRBB...   \n",
            "1  AECPFYFQVRUWC3KGNLJIOREFP5LQ,AGYYVPDD7YG7FYNBX...   \n",
            "2  AGU3BBQ2V2DDAMOAKGFAWDDQ6QHA,AESFLDV2PT363T2AQ...   \n",
            "3  AEWAZDZZJLQUYVOVGBEUKSLXHQ5A,AG5HTSFRRE6NL3M5S...   \n",
            "4  AE3Q6KSUK5P75D5HFYHCRAOLODSA,AFUGIFH5ZAFXRDSZH...   \n",
            "\n",
            "                                           user_name  \\\n",
            "0  Manav,Adarsh gupta,Sundeep,S.Sayeed Ahmed,jasp...   \n",
            "1  ArdKn,Nirbhay kumar,Sagar Viswanathan,Asp,Plac...   \n",
            "2  Kunal,Himanshu,viswanath,sai niharka,saqib mal...   \n",
            "3  Omkar dhale,JD,HEMALATHA,Ajwadh a.,amar singh ...   \n",
            "4  rahuls6099,Swasat Borah,Ajay Wadke,Pranali,RVK...   \n",
            "\n",
            "                                           review_id  \\\n",
            "0  R3HXWT0LRP0NMF,R2AJM3LFTLZHFO,R6AQJGUP6P86,R1K...   \n",
            "1  RGIQEG07R9HS2,R1SMWZQ86XIN8U,R2J3Y1WL29GWDE,RY...   \n",
            "2  R3J3EQQ9TZI5ZJ,R3E7WBGK7ID0KV,RWU79XKQ6I1QF,R2...   \n",
            "3  R3EEUZKKK9J36I,R3HJVYCLYOY554,REDECAZ7AMPQC,R1...   \n",
            "4  R1BP4L2HH9TFUP,R16PVJEXKV6QZS,R2UPDB81N66T4P,R...   \n",
            "\n",
            "                                        review_title  \\\n",
            "0  Satisfied,Charging is really fast,Value for mo...   \n",
            "1  A Good Braided Cable for Your Type C Device,Go...   \n",
            "2  Good speed for earlier versions,Good Product,W...   \n",
            "3  Good product,Good one,Nice,Really nice product...   \n",
            "4  As good as original,Decent,Good one for second...   \n",
            "\n",
            "                                      review_content  \\\n",
            "0  Looks durable Charging is fine tooNo complains...   \n",
            "1  I ordered this cable to connect my phone to An...   \n",
            "2  Not quite durable and sturdy,https://m.media-a...   \n",
            "3  Good product,long wire,Charges good,Nice,I bou...   \n",
            "4  Bought this instead of original apple, does th...   \n",
            "\n",
            "                                            img_link  \\\n",
            "0  https://m.media-amazon.com/images/W/WEBP_40237...   \n",
            "1  https://m.media-amazon.com/images/W/WEBP_40237...   \n",
            "2  https://m.media-amazon.com/images/W/WEBP_40237...   \n",
            "3  https://m.media-amazon.com/images/I/41V5FtEWPk...   \n",
            "4  https://m.media-amazon.com/images/W/WEBP_40237...   \n",
            "\n",
            "                                        product_link  \n",
            "0  https://www.amazon.in/Wayona-Braided-WN3LG1-Sy...  \n",
            "1  https://www.amazon.in/Ambrane-Unbreakable-Char...  \n",
            "2  https://www.amazon.in/Sounce-iPhone-Charging-C...  \n",
            "3  https://www.amazon.in/Deuce-300-Resistant-Tang...  \n",
            "4  https://www.amazon.in/Portronics-Konnect-POR-1...  \n"
          ]
        }
      ]
    },
    {
      "cell_type": "code",
      "source": [
        "print(df.columns)"
      ],
      "metadata": {
        "colab": {
          "base_uri": "https://localhost:8080/"
        },
        "id": "edhnMxbhqDqu",
        "outputId": "7eb2024e-2cf9-4823-a645-e13b5f0d5937"
      },
      "execution_count": 8,
      "outputs": [
        {
          "output_type": "stream",
          "name": "stdout",
          "text": [
            "Index(['product_id', 'product_name', 'category', 'discounted_price',\n",
            "       'actual_price', 'discount_percentage', 'rating', 'rating_count',\n",
            "       'about_product', 'user_id', 'user_name', 'review_id', 'review_title',\n",
            "       'review_content', 'img_link', 'product_link'],\n",
            "      dtype='object')\n"
          ]
        }
      ]
    },
    {
      "cell_type": "code",
      "source": [
        "#Q1- What is the average rating for each product category\n",
        "\n",
        "\n",
        "# Convert the 'rating' column to numeric, coercing errors to NaN (for invalid values)\n",
        "df['rating'] = pd.to_numeric(df['rating'], errors='coerce')\n",
        "\n",
        "# Group by category and calculate the average rating\n",
        "average_ratings = df.groupby('category')['rating'].mean()\n",
        "\n",
        "# Display the result\n",
        "print(average_ratings)\n",
        "\n",
        "\n"
      ],
      "metadata": {
        "colab": {
          "base_uri": "https://localhost:8080/"
        },
        "id": "nEIIZrpYpS1w",
        "outputId": "890d9dac-e83d-41f7-b7ff-de240637b459"
      },
      "execution_count": 9,
      "outputs": [
        {
          "output_type": "stream",
          "name": "stdout",
          "text": [
            "category\n",
            "Car&Motorbike|CarAccessories|InteriorAccessories|AirPurifiers&Ionizers                                                    3.800000\n",
            "Computers&Accessories|Accessories&Peripherals|Adapters|USBtoUSBAdapters                                                   4.150000\n",
            "Computers&Accessories|Accessories&Peripherals|Audio&VideoAccessories|PCHeadsets                                           3.500000\n",
            "Computers&Accessories|Accessories&Peripherals|Audio&VideoAccessories|PCMicrophones                                        3.600000\n",
            "Computers&Accessories|Accessories&Peripherals|Audio&VideoAccessories|PCSpeakers                                           4.050000\n",
            "                                                                                                                            ...   \n",
            "OfficeProducts|OfficePaperProducts|Paper|Stationery|Pens,Pencils&WritingSupplies|Pens&Refills|GelInkRollerballPens        4.250000\n",
            "OfficeProducts|OfficePaperProducts|Paper|Stationery|Pens,Pencils&WritingSupplies|Pens&Refills|LiquidInkRollerballPens     4.150000\n",
            "OfficeProducts|OfficePaperProducts|Paper|Stationery|Pens,Pencils&WritingSupplies|Pens&Refills|RetractableBallpointPens    4.300000\n",
            "OfficeProducts|OfficePaperProducts|Paper|Stationery|Pens,Pencils&WritingSupplies|Pens&Refills|StickBallpointPens          4.133333\n",
            "Toys&Games|Arts&Crafts|Drawing&PaintingSupplies|ColouringPens&Markers                                                     4.300000\n",
            "Name: rating, Length: 211, dtype: float64\n"
          ]
        }
      ]
    },
    {
      "cell_type": "code",
      "source": [
        "#Q2 What are the top rating_count products by category\n",
        "\n",
        "# Convert 'rating_count' to numeric, coercing errors to NaN (for invalid values)\n",
        "df['rating_count'] = pd.to_numeric(df['rating_count'], errors='coerce')\n",
        "\n",
        "# Sort within each category by 'rating_count' in descending order\n",
        "top_products = df.sort_values(by=['category', 'rating_count'], ascending=[True, False])\n",
        "\n",
        "# For each category, take the top product (or products) based on rating_count\n",
        "top_products_by_category = top_products.groupby('category').head(1)\n",
        "\n",
        "# Display the result\n",
        "print(top_products_by_category[['category', 'product_name', 'rating_count']])\n"
      ],
      "metadata": {
        "colab": {
          "base_uri": "https://localhost:8080/"
        },
        "id": "fFEjTu5Tq2mO",
        "outputId": "229c07c4-f266-4d3a-8d17-7ed9dfd02802"
      },
      "execution_count": 10,
      "outputs": [
        {
          "output_type": "stream",
          "name": "stdout",
          "text": [
            "                                               category  \\\n",
            "1157  Car&Motorbike|CarAccessories|InteriorAccessori...   \n",
            "695   Computers&Accessories|Accessories&Peripherals|...   \n",
            "906   Computers&Accessories|Accessories&Peripherals|...   \n",
            "748   Computers&Accessories|Accessories&Peripherals|...   \n",
            "844   Computers&Accessories|Accessories&Peripherals|...   \n",
            "...                                                 ...   \n",
            "616   OfficeProducts|OfficePaperProducts|Paper|Stati...   \n",
            "993   OfficeProducts|OfficePaperProducts|Paper|Stati...   \n",
            "765   OfficeProducts|OfficePaperProducts|Paper|Stati...   \n",
            "850   OfficeProducts|OfficePaperProducts|Paper|Stati...   \n",
            "924   Toys&Games|Arts&Crafts|Drawing&PaintingSupplie...   \n",
            "\n",
            "                                           product_name  rating_count  \n",
            "1157  Reffair AX30 [MAX] Portable Air Purifier for C...           NaN  \n",
            "695   rts [2 Pack] Mini USB C Type C Adapter Plug, T...           NaN  \n",
            "906   Hp Wired On Ear Headphones With Mic With 3.5 M...           NaN  \n",
            "748   JBL Commercial CSLM20B Auxiliary Omnidirection...           NaN  \n",
            "844   Zebronics Zeb Wonderbar 10 USB Powered 2.0 Com...           NaN  \n",
            "...                                                 ...           ...  \n",
            "616   Classmate Octane Neon- Blue Gel Pens(Pack of 5...           NaN  \n",
            "993   Pilot Frixion Clicker Roller Pen (Blue), (9000...           NaN  \n",
            "765              Parker Classic Gold Gold Trim Ball Pen           NaN  \n",
            "850      Pentonic Multicolor Ball Point Pen, Pack of 10           NaN  \n",
            "924   Faber-Castell Connector Pen Set - Pack of 25 (...           NaN  \n",
            "\n",
            "[211 rows x 3 columns]\n"
          ]
        }
      ]
    },
    {
      "cell_type": "code",
      "source": [
        "#Q3 What is the distribution of discounted prices vs. actual prices\n",
        "import pandas as pd\n",
        "import matplotlib.pyplot as plt\n",
        "\n",
        "\n",
        "# Convert price columns to numeric\n",
        "df['discounted_price'] = pd.to_numeric(df['discounted_price'], errors='coerce')\n",
        "df['actual_price'] = pd.to_numeric(df['actual_price'], errors='coerce')\n",
        "\n",
        "# Drop rows with missing prices\n",
        "df = df.dropna(subset=['discounted_price', 'actual_price'])\n",
        "\n",
        "# Plot\n",
        "plt.figure(figsize=(10, 6))\n",
        "plt.scatter(df['actual_price'], df['discounted_price'], alpha=0.5, color='teal')\n",
        "plt.xlabel('Actual Price')\n",
        "plt.ylabel('Discounted Price')\n",
        "plt.title('Discounted Price vs Actual Price')\n",
        "plt.grid(True)\n",
        "plt.show()\n",
        "\n"
      ],
      "metadata": {
        "colab": {
          "base_uri": "https://localhost:8080/",
          "height": 558
        },
        "id": "uo73SfedrKxc",
        "outputId": "69aa8e2c-7f99-4418-bd74-cc46a34e522b"
      },
      "execution_count": 14,
      "outputs": [
        {
          "output_type": "display_data",
          "data": {
            "text/plain": [
              "<Figure size 1000x600 with 1 Axes>"
            ],
            "image/png": "[encoded data removed]"
          },
          "metadata": {}
        }
      ]
    },
    {
      "cell_type": "code",
      "source": [
        "#Q4-How does the average discount percentage vary across categories\n",
        "import pandas as pd\n",
        "\n",
        "# Load the CSV\n",
        "df = pd.read_csv('/content/drive/MyDrive/amazon.csv')\n",
        "\n",
        "# Convert 'discount_percentage' to numeric (in case of any strings or symbols)\n",
        "df['discount_percentage'] = pd.to_numeric(df['discount_percentage'], errors='coerce')\n",
        "\n",
        "# Group by category and calculate average discount percentage\n",
        "avg_discount = df.groupby('category')['discount_percentage'].mean().sort_values(ascending=False)\n",
        "\n",
        "# Display the result\n",
        "print(avg_discount)\n",
        "\n"
      ],
      "metadata": {
        "id": "hKs0iqpzr_t_",
        "outputId": "9236b976-b083-4250-d115-8e4d9d512ad1",
        "colab": {
          "base_uri": "https://localhost:8080/"
        }
      },
      "execution_count": 16,
      "outputs": [
        {
          "output_type": "stream",
          "name": "stdout",
          "text": [
            "category\n",
            "Car&Motorbike|CarAccessories|InteriorAccessories|AirPurifiers&Ionizers                                                   NaN\n",
            "Computers&Accessories|Accessories&Peripherals|Adapters|USBtoUSBAdapters                                                  NaN\n",
            "Computers&Accessories|Accessories&Peripherals|Audio&VideoAccessories|PCHeadsets                                          NaN\n",
            "Computers&Accessories|Accessories&Peripherals|Audio&VideoAccessories|PCMicrophones                                       NaN\n",
            "Computers&Accessories|Accessories&Peripherals|Audio&VideoAccessories|PCSpeakers                                          NaN\n",
            "                                                                                                                          ..\n",
            "OfficeProducts|OfficePaperProducts|Paper|Stationery|Pens,Pencils&WritingSupplies|Pens&Refills|GelInkRollerballPens       NaN\n",
            "OfficeProducts|OfficePaperProducts|Paper|Stationery|Pens,Pencils&WritingSupplies|Pens&Refills|LiquidInkRollerballPens    NaN\n",
            "OfficeProducts|OfficePaperProducts|Paper|Stationery|Pens,Pencils&WritingSupplies|Pens&Refills|RetractableBallpointPens   NaN\n",
            "OfficeProducts|OfficePaperProducts|Paper|Stationery|Pens,Pencils&WritingSupplies|Pens&Refills|StickBallpointPens         NaN\n",
            "Toys&Games|Arts&Crafts|Drawing&PaintingSupplies|ColouringPens&Markers                                                    NaN\n",
            "Name: discount_percentage, Length: 211, dtype: float64\n"
          ]
        }
      ]
    },
    {
      "cell_type": "code",
      "source": [
        "#Q5-What are the most popular product names\n",
        "\n",
        "# Convert rating_count to numeric\n",
        "df['rating_count'] = pd.to_numeric(df['rating_count'], errors='coerce')\n",
        "\n",
        "# Drop missing values in rating_count\n",
        "df = df.dropna(subset=['rating_count'])\n",
        "\n",
        "# Sort by rating_count in descending order\n",
        "most_popular = df.sort_values(by='rating_count', ascending=False)\n",
        "\n",
        "# Get the top 10 product names\n",
        "top_10_products = most_popular[['product_name', 'rating_count']].head(10)\n",
        "\n",
        "print(top_10_products)\n"
      ],
      "metadata": {
        "id": "EfF4uXTHsc6G",
        "outputId": "99fb1525-2a08-49b9-9e1b-3d2e4cb77c23",
        "colab": {
          "base_uri": "https://localhost:8080/"
        }
      },
      "execution_count": 17,
      "outputs": [
        {
          "output_type": "stream",
          "name": "stdout",
          "text": [
            "                                           product_name  rating_count\n",
            "1279  Eureka Forbes car Vac 100 Watts Powerful Sucti...         992.0\n",
            "750        Eveready Red 1012 AAA Batteries - Pack of 10         989.0\n",
            "1059  Pigeon 1.5 litre Hot Kettle and Stainless Stee...         976.0\n",
            "823   Zoul USB C 60W Fast Charging 3A 6ft/2M Long Ty...         974.0\n",
            "32    Zoul USB C 60W Fast Charging 3A 6ft/2M Long Ty...         974.0\n",
            "151   Zoul USB Type C Fast Charging 3A Nylon Braided...         974.0\n",
            "1272  Bajaj New Shakti Neo Plus 15 Litre 4 Star Rate...         959.0\n",
            "1259  Hindware Atlantic Xceed 5L 3kW Instant Water H...         942.0\n",
            "214   Crypo™ Universal Remote Compatible with Tata S...         928.0\n",
            "1262  iBELL Castor CTEK15L Premium 1.5 Litre Stainle...         925.0\n"
          ]
        }
      ]
    },
    {
      "cell_type": "code",
      "source": [
        "#Q6 What are the most popular product keywords\n",
        "\n",
        "import pandas as pd\n",
        "from collections import Counter\n",
        "import re\n",
        "\n",
        "\n",
        "# Combine all product names into a single string\n",
        "all_names = ' '.join(df['product_name'].dropna().astype(str))\n",
        "\n",
        "# Optional: make lowercase and split words using regex (to avoid punctuation)\n",
        "words = re.findall(r'\\b\\w+\\b', all_names.lower())\n",
        "\n",
        "# Count word frequency\n",
        "word_counts = Counter(words)\n",
        "\n",
        "# Get the top 20 most common keywords\n",
        "most_common_keywords = word_counts.most_common(20)\n",
        "\n",
        "# Display the keywords\n",
        "for word, count in most_common_keywords:\n",
        "    print(f\"{word}: {count}\")\n"
      ],
      "metadata": {
        "id": "Ez7jVVBHsrAx",
        "outputId": "1e66c5f3-141d-48a9-aca9-9895196a7672",
        "colab": {
          "base_uri": "https://localhost:8080/"
        }
      },
      "execution_count": 18,
      "outputs": [
        {
          "output_type": "stream",
          "name": "stdout",
          "text": [
            "for: 204\n",
            "with: 154\n",
            "cable: 116\n",
            "1: 101\n",
            "black: 97\n",
            "c: 89\n",
            "and: 85\n",
            "usb: 82\n",
            "remote: 69\n",
            "compatible: 66\n",
            "tv: 61\n",
            "to: 59\n",
            "type: 59\n",
            "heater: 59\n",
            "charging: 57\n",
            "fast: 54\n",
            "3: 53\n",
            "2: 49\n",
            "electric: 47\n",
            "smart: 45\n"
          ]
        }
      ]
    },
    {
      "cell_type": "code",
      "source": [
        "#Q7 What are the most popular product reviews\n",
        "# Convert 'rating_count' to numeric\n",
        "df['rating_count'] = pd.to_numeric(df['rating_count'], errors='coerce')\n",
        "\n",
        "# Drop NaN values\n",
        "df = df.dropna(subset=['rating_count', 'review_title', 'review_content'])\n",
        "\n",
        "# Sort by rating_count\n",
        "top_reviews = df.sort_values(by='rating_count', ascending=False)\n",
        "\n",
        "# Select top 10 most popular reviews\n",
        "top_10_reviews = top_reviews[['product_name', 'rating_count', 'review_title', 'review_content']].head(10)\n",
        "\n",
        "# Display\n",
        "print(top_10_reviews)\n"
      ],
      "metadata": {
        "id": "n6FeISSds3co",
        "outputId": "72b9dd95-d0f6-4e60-fb3c-09343315a47e",
        "colab": {
          "base_uri": "https://localhost:8080/"
        }
      },
      "execution_count": 19,
      "outputs": [
        {
          "output_type": "stream",
          "name": "stdout",
          "text": [
            "                                           product_name  rating_count  \\\n",
            "1279  Eureka Forbes car Vac 100 Watts Powerful Sucti...         992.0   \n",
            "750        Eveready Red 1012 AAA Batteries - Pack of 10         989.0   \n",
            "1059  Pigeon 1.5 litre Hot Kettle and Stainless Stee...         976.0   \n",
            "823   Zoul USB C 60W Fast Charging 3A 6ft/2M Long Ty...         974.0   \n",
            "32    Zoul USB C 60W Fast Charging 3A 6ft/2M Long Ty...         974.0   \n",
            "151   Zoul USB Type C Fast Charging 3A Nylon Braided...         974.0   \n",
            "1272  Bajaj New Shakti Neo Plus 15 Litre 4 Star Rate...         959.0   \n",
            "1259  Hindware Atlantic Xceed 5L 3kW Instant Water H...         942.0   \n",
            "214   Crypo™ Universal Remote Compatible with Tata S...         928.0   \n",
            "1262  iBELL Castor CTEK15L Premium 1.5 Litre Stainle...         925.0   \n",
            "\n",
            "                                           review_title  \\\n",
            "1279  Decent product,doesn't pick up sand,Ok ok,Must...   \n",
            "750   Nice .,very good batteries received,Longtevity...   \n",
            "1059  Kettle is good but bottle is not good quality,...   \n",
            "823   Great Cable, Charging Speeds Could Be Better,G...   \n",
            "32    Great Cable, Charging Speeds Could Be Better,G...   \n",
            "151   Great Cable, Charging Speeds Could Be Better,G...   \n",
            "1272  Ok,A good water heater,Easy to use inverter,Go...   \n",
            "1259  Good product but pipes/installation/plug not i...   \n",
            "214   Good compatibility,Good Product,Good nice serv...   \n",
            "1262  It’s a good product in this price.,Nice produc...   \n",
            "\n",
            "                                         review_content  \n",
            "1279  Does the job well,doesn't work on sand. though...  \n",
            "750   Nive,very good batteries received,Like,Good pr...  \n",
            "1059  Bottle quality is not good.,Best for hot water...  \n",
            "823   Not charging as fast as I'd have expected. May...  \n",
            "32    Not charging as fast as I'd have expected. May...  \n",
            "151   Not charging as fast as I'd have expected. May...  \n",
            "1272  Ok,The product works very well. The support is...  \n",
            "1259  I bought 5ltr 3kw model 10 days before Provide...  \n",
            "214   The remote works well and is pleasantly compat...  \n",
            "1262  It’s a good product and I’m using it since 1 w...  \n"
          ]
        }
      ]
    },
    {
      "cell_type": "code",
      "source": [
        "#Q8-What is the correlation between discounted_price and rating\n",
        "\n",
        "# Convert to numeric\n",
        "df['discounted_price'] = pd.to_numeric(df['discounted_price'], errors='coerce')\n",
        "df['rating'] = pd.to_numeric(df['rating'], errors='coerce')\n",
        "\n",
        "# Drop NaN values\n",
        "df_clean = df.dropna(subset=['discounted_price', 'rating'])\n",
        "\n",
        "# Calculate correlation\n",
        "correlation = df_clean['discounted_price'].corr(df_clean['rating'])\n",
        "\n",
        "print(f\"Correlation between discounted price and rating: {correlation:.4f}\")\n"
      ],
      "metadata": {
        "id": "mzpJ2VMatGk9",
        "outputId": "cc9bd72c-0bad-43c8-9d68-84f2c2fd17b3",
        "colab": {
          "base_uri": "https://localhost:8080/"
        }
      },
      "execution_count": 20,
      "outputs": [
        {
          "output_type": "stream",
          "name": "stdout",
          "text": [
            "Correlation between discounted price and rating: nan\n"
          ]
        }
      ]
    },
    {
      "cell_type": "code",
      "source": [
        "#Q9- What are the Top 5 categories based on the highest rating\n",
        "\n",
        "# Convert 'rating' to numeric\n",
        "df['rating'] = pd.to_numeric(df['rating'], errors='coerce')\n",
        "\n",
        "# Drop NaNs in 'rating' or 'category'\n",
        "df = df.dropna(subset=['rating', 'category'])\n",
        "\n",
        "# Group by category and calculate average rating\n",
        "top_categories = df.groupby('category')['rating'].mean().sort_values(ascending=False).head(5)\n",
        "\n",
        "# Display the result\n",
        "print(\"Top 5 Categories Based on Highest Average Rating:\")\n",
        "print(top_categories)\n"
      ],
      "metadata": {
        "id": "0o41T8S0tSdo",
        "outputId": "a9be79a3-6d86-47dc-c5c5-551a2ba17450",
        "colab": {
          "base_uri": "https://localhost:8080/"
        }
      },
      "execution_count": 21,
      "outputs": [
        {
          "output_type": "stream",
          "name": "stdout",
          "text": [
            "Top 5 Categories Based on Highest Average Rating:\n",
            "category\n",
            "Computers&Accessories|Accessories&Peripherals|Keyboards,Mice&InputDevices|Mice                   5.00\n",
            "Electronics|Mobiles&Accessories|MobileAccessories|Photo&VideoAccessories|SelfieSticks            4.60\n",
            "Electronics|HomeAudio|MediaStreamingDevices|StreamingClients                                     4.50\n",
            "Home&Kitchen|Kitchen&HomeAppliances|WaterPurifiers&Accessories|WaterFilters&Purifiers            4.45\n",
            "Electronics|Mobiles&Accessories|MobileAccessories|Maintenance,Upkeep&Repairs|ScreenProtectors    4.40\n",
            "Name: rating, dtype: float64\n"
          ]
        }
      ]
    },
    {
      "cell_type": "code",
      "source": [
        "#Q10- Identify any potential areas for improvement or optimization based on the data analysi\n",
        "\n",
        "import pandas as pd\n",
        "from collections import Counter\n",
        "import re\n",
        "\n",
        "# Load the dataset\n",
        "df = pd.read_csv('/content/drive/MyDrive/amazon.csv')\n",
        "\n",
        "# Convert relevant columns to numeric\n",
        "df['discount_percentage'] = pd.to_numeric(df['discount_percentage'], errors='coerce')\n",
        "df['rating'] = pd.to_numeric(df['rating'], errors='coerce')\n",
        "df['rating_count'] = pd.to_numeric(df['rating_count'], errors='coerce')\n",
        "df['discounted_price'] = pd.to_numeric(df['discounted_price'], errors='coerce')\n",
        "\n",
        "# 1. Low-Rated Categories\n",
        "low_rated_categories = df.groupby('category')['rating'].mean().sort_values().head(5)\n",
        "print(\"\\nLowest Rated Categories:\\n\", low_rated_categories)\n",
        "\n",
        "# 2. High Discount, Low Rating Products\n",
        "low_quality_discounts = df[(df['discount_percentage'] > 40) & (df['rating'] < 3.0)]\n",
        "print(\"\\nProducts with High Discounts but Low Ratings:\\n\", low_quality_discounts[['product_name', 'discount_percentage', 'rating']].head(10))\n",
        "\n",
        "# 3. Popular but Poorly Rated Products\n",
        "popular_low_rated = df[(df['rating_count'] > 100) & (df['rating'] < 3.0)]\n",
        "print(\"\\nPopular but Low-Rated Products:\\n\", popular_low_rated[['product_name', 'rating', 'rating_count']].head(10))\n",
        "\n",
        "# 4. Missing or Dirty Data Check\n",
        "missing_data = df.isnull().sum()\n",
        "print(\"\\nMissing Data:\\n\", missing_data)\n",
        "\n",
        "# 5. Underperforming Product Keywords (Low-Rated Products)\n",
        "low_rated = df[df['rating'] < 3.0]['product_name'].dropna().astype(str)\n",
        "text = ' '.join(low_rated)\n",
        "keywords = re.findall(r'\\b\\w+\\b', text.lower())\n",
        "\n",
        "# Count and display common keywords\n",
        "low_rating_keywords = Counter(keywords).most_common(15)\n",
        "print(\"\\nCommon Keywords in Low-Rated Products:\")\n",
        "for word, count in low_rating_keywords:\n",
        "    print(f\"{word}: {count}\")\n",
        "\n",
        "# 6. Correlation Between Discounted Price and Rating\n",
        "correlation = df[['discounted_price', 'rating']].corr()\n",
        "print(\"\\nCorrelation Between Discounted Price and Rating:\\n\", correlation)\n"
      ],
      "metadata": {
        "id": "IYwbFK-MtfHk",
        "outputId": "0caaed51-2964-405c-c467-b92705c9d29d",
        "colab": {
          "base_uri": "https://localhost:8080/"
        }
      },
      "execution_count": 22,
      "outputs": [
        {
          "output_type": "stream",
          "name": "stdout",
          "text": [
            "\n",
            "Lowest Rated Categories:\n",
            " category\n",
            "Home&Kitchen|Kitchen&HomeAppliances|Coffee,Tea&Espresso|CoffeeGrinders|ElectricGrinders                          3.3\n",
            "Computers&Accessories|Accessories&Peripherals|Keyboards,Mice&InputDevices|Keyboard&MiceAccessories|DustCovers    3.4\n",
            "Electronics|HomeTheater,TV&Video|Accessories|3DGlasses                                                           3.5\n",
            "Computers&Accessories|Accessories&Peripherals|Audio&VideoAccessories|PCHeadsets                                  3.5\n",
            "Computers&Accessories|Printers,Inks&Accessories|Printers|InkjetPrinters                                          3.6\n",
            "Name: rating, dtype: float64\n",
            "\n",
            "Products with High Discounts but Low Ratings:\n",
            " Empty DataFrame\n",
            "Columns: [product_name, discount_percentage, rating]\n",
            "Index: []\n",
            "\n",
            "Popular but Low-Rated Products:\n",
            "                                            product_name  rating  rating_count\n",
            "1286  MR. BRAND Portable USB Juicer Electric USB Jui...     2.8         109.0\n",
            "1449  IONIX Tap filter Multilayer | Activated Carbon...     2.9         159.0\n",
            "\n",
            "Missing Data:\n",
            " product_id                0\n",
            "product_name              0\n",
            "category                  0\n",
            "discounted_price       1465\n",
            "actual_price              0\n",
            "discount_percentage    1465\n",
            "rating                    1\n",
            "rating_count           1139\n",
            "about_product             0\n",
            "user_id                   0\n",
            "user_name                 0\n",
            "review_id                 0\n",
            "review_title              0\n",
            "review_content            0\n",
            "img_link                  0\n",
            "product_link              0\n",
            "dtype: int64\n",
            "\n",
            "Common Keywords in Low-Rated Products:\n",
            "blender: 5\n",
            "for: 4\n",
            "and: 3\n",
            "usb: 3\n",
            "bottle: 3\n",
            "mixer: 3\n",
            "filter: 3\n",
            "water: 3\n",
            "portable: 2\n",
            "with: 2\n",
            "blades: 2\n",
            "mini: 2\n",
            "juice: 2\n",
            "6: 2\n",
            "multi: 2\n",
            "\n",
            "Correlation Between Discounted Price and Rating:\n",
            "                   discounted_price  rating\n",
            "discounted_price               NaN     NaN\n",
            "rating                         NaN     1.0\n"
          ]
        }
      ]
    }
  ]
}