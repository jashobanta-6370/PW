{
  "nbformat": 4,
  "nbformat_minor": 0,
  "metadata": {
    "colab": {
      "provenance": []
    },
    "kernelspec": {
      "name": "python3",
      "display_name": "Python 3"
    },
    "language_info": {
      "name": "python"
    }
  },
  "cells": [
    {
      "cell_type": "markdown",
      "source": [
        "1.What is statistics, and why is it important?\n",
        "\n",
        "Ans: Statistics is the study of collecting, analyzing, and interpreting data. It helps in decision-making and identifying patterns.\n",
        "\n",
        "*   List item\n",
        "*   List item\n",
        "\n"
      ],
      "metadata": {
        "id": "gmvB1LP9SmZb"
      }
    },
    {
      "cell_type": "markdown",
      "source": [
        "2.What are the two main types of statistics?\n",
        "\n",
        " Ans: Descriptive statistics (summarizes data) and Inferential statistics (makes predictions from data)."
      ],
      "metadata": {
        "id": "G8P0PbH6SldJ"
      }
    },
    {
      "cell_type": "markdown",
      "source": [
        "3.What are descriptive statistics?\n",
        "\n",
        " Ans: Descriptive statistics summarize data using measures like mean, median, mode, and graphical representation."
      ],
      "metadata": {
        "id": "pGl_JGVnSzOU"
      }
    },
    {
      "cell_type": "markdown",
      "source": [
        "4.What is inferential statistics?\n",
        "\n",
        " Ans: Inferential statistics use sample data to make conclusions about a larger population."
      ],
      "metadata": {
        "id": "Al7O9m0NSz1G"
      }
    },
    {
      "cell_type": "markdown",
      "source": [
        "5.What is sampling in statistics?\n",
        "\n",
        " Ans: Sampling is selecting a subset of individuals from a population to study and analyze."
      ],
      "metadata": {
        "id": "ckOqQNyWS4Lw"
      }
    },
    {
      "cell_type": "markdown",
      "source": [
        "6.What are the different types of sampling methods?\n",
        "\n",
        " Ans: Random, stratified, systematic, cluster, and convenience sampling."
      ],
      "metadata": {
        "id": "cnPW1I0KS4BJ"
      }
    },
    {
      "cell_type": "markdown",
      "source": [
        "7.What is the difference between random and non-random sampling?\n",
        "\n",
        " Ans: Random sampling gives every individual an equal chance, while non-random sampling is based on specific selection criteria."
      ],
      "metadata": {
        "id": "UFL2gyQyS3zA"
      }
    },
    {
      "cell_type": "markdown",
      "source": [
        "8.Define and give examples of qualitative and quantitative data.\n",
        "\n",
        " Ans: Qualitative data (categorical) includes names, colors; Quantitative data (numerical) includes height, weight.\n",
        "\n",
        " 9.What are the different types of data in statistics?\n",
        "\n",
        " Ans: Nominal, Ordinal, Interval, and Ratio data.\n",
        "\n",
        "\n",
        "10.Explain nominal, ordinal, interval, and ratio levels of measurement.\n",
        "\n",
        " Ans:\n",
        "\n",
        "\n",
        "Nominal – Categories without order (e.g., colors).\n",
        "\n",
        "\n",
        "Ordinal – Ordered categories (e.g., rankings).\n",
        "\n",
        "\n",
        "Interval – Ordered with equal spacing, no true zero (e.g., temperature).\n",
        "\n",
        "\n",
        "Ratio – Ordered with true zero (e.g., weight).\n",
        "\n",
        "\n",
        "11.What is the measure of central tendency?\n",
        "\n",
        " Ans: It is a single value representing the center of a dataset, including mean, median, and mode.\n",
        "\n",
        "\n",
        " 12.Define mean, median, and mode.\n",
        "\n",
        " Ans:\n",
        "\n",
        "\n",
        "Mean – Average of all values.\n",
        "\n",
        "\n",
        "Median – Middle value in an ordered dataset.\n",
        "\n",
        "\n",
        "Mode – Most frequently occurring value.\n",
        "\n",
        "\n",
        "\n",
        "13.What is the significance of the measure of central tendency?\n",
        "\n",
        " Ans: It helps summarize and represent data concisely, making comparisons easier.\n",
        "\n",
        "\n",
        "14.What is variance, and how is it calculated?\n",
        "\n",
        " Ans: Variance measures data spread and is calculated as the average squared difference from the mean.\n",
        "\n",
        "\n",
        "15.What is standard deviation, and why is it important?\n",
        "\n",
        " Ans: Standard deviation measures data dispersion; a higher value means greater variability.\n",
        "\n",
        "\n",
        "16.Define and explain the term range in statistics.\n",
        "\n",
        " Ans: Range is the difference between the highest and lowest values in a dataset.\n",
        "\n",
        "\n",
        "17.What is the difference between variance and standard deviation?\n",
        "\n",
        " Ans: Variance is the squared deviation from the mean, while standard deviation is its square root.\n",
        "\n",
        "\n",
        "18.What is skewness in a dataset?\n",
        "\n",
        " Ans: Skewness measures data asymmetry—positive skew (right-tailed), negative skew (left-tailed).\n",
        "\n",
        " 19.What does it mean if a dataset is positively or negatively skewed?\n",
        "\n",
        " Ans: Positive skew: data is concentrated on the left. Negative skew: data is concentrated on the right.\n",
        "\n",
        "\n",
        "20.Define and explain kurtosis.\n",
        "\n",
        " Ans: Kurtosis measures the \"tailedness\" of a distribution—higher kurtosis means more extreme values (outliers).\n",
        "\n",
        "\n",
        "21.What is the purpose of covariance?\n",
        "\n",
        " Ans: Covariance determines the directional relationship between two variables.\n",
        "\n",
        "\n",
        "22.What does correlation measure in statistics?\n",
        "\n",
        " Ans: Correlation measures the strength and direction of the relationship between two variables.\n",
        "\n",
        "\n",
        "23.What is the difference between covariance and correlation?\n",
        "\n",
        " Ans: Covariance indicates direction, while correlation standardizes it between -1 and +1.\n",
        "\n",
        "\n",
        "24.What are some real-world applications of statistics?\n",
        "\n",
        " Ans: Finance (risk analysis), medicine (clinical trials), business (market research), and sports (performance tracking).\n"
      ],
      "metadata": {
        "id": "WBinr89MS3vk"
      }
    },
    {
      "cell_type": "markdown",
      "source": [
        "1. How do you calculate the mean, median, and mode of a dataset?\n",
        "\n",
        "Mean = Sum of all values / Number of values\n",
        "\n",
        "Median = Middle value when the dataset is ordered\n",
        "\n",
        "Mode = Most frequently occurring value"
      ],
      "metadata": {
        "id": "KA2Dbl-nVW2C"
      }
    },
    {
      "cell_type": "code",
      "execution_count": 1,
      "metadata": {
        "colab": {
          "base_uri": "https://localhost:8080/"
        },
        "id": "1muNJ4ImSi93",
        "outputId": "199cfef0-96b6-4c70-ae36-add01fe43c1a"
      },
      "outputs": [
        {
          "output_type": "stream",
          "name": "stdout",
          "text": [
            "Variance: 250.0\n",
            "Standard Deviation: 15.811388300841896\n"
          ]
        }
      ],
      "source": [
        "#2. Write a Python program to compute the variance and standard deviation of a dataset.\n",
        "\n",
        "import numpy as np\n",
        "\n",
        "data = [10, 20, 30, 40, 50]\n",
        "\n",
        "variance = np.var(data, ddof=1)  # Sample variance\n",
        "std_dev = np.std(data, ddof=1)   # Sample standard deviation\n",
        "\n",
        "print(\"Variance:\", variance)\n",
        "print(\"Standard Deviation:\", std_dev)\n"
      ]
    },
    {
      "cell_type": "code",
      "source": [
        "#3. Create a dataset and classify it into nominal, ordinal, interval, and ratio types.\n",
        "'''\n",
        "Nominal: Categories without a meaningful order (e.g., colors: Red, Blue, Green)\n",
        "\n",
        "Ordinal: Ordered categories (e.g., education level: High School, Bachelor, Master)\n",
        "\n",
        "Interval: Numeric data without a true zero (e.g., temperature in Celsius)\n",
        "\n",
        "Ratio: Numeric data with a true zero (e.g., height, weight)\n",
        "'''"
      ],
      "metadata": {
        "id": "3xl-tqTqVi-p"
      },
      "execution_count": 2,
      "outputs": []
    },
    {
      "cell_type": "code",
      "source": [
        "#4. Implement sampling techniques like random sampling and stratified sampling.\n",
        "import numpy as np\n",
        "import pandas as pd\n",
        "from sklearn.model_selection import train_test_split\n",
        "\n",
        "data = np.arange(1, 101)\n",
        "random_sample = np.random.choice(data, 10, replace=False)\n",
        "\n",
        "df = pd.DataFrame({'Category': ['A']*50 + ['B']*50, 'Value': np.random.randint(1, 100, 100)})\n",
        "stratified_sample = df.groupby('Category', group_keys=False).apply(lambda x: x.sample(5))\n",
        "\n",
        "print(\"Random Sample:\", random_sample)\n",
        "print(\"Stratified Sample:\\n\", stratified_sample)\n"
      ],
      "metadata": {
        "colab": {
          "base_uri": "https://localhost:8080/"
        },
        "id": "XD3bpgqZVsKx",
        "outputId": "9c182f7c-0d7d-40c4-bbee-23ade4da838d"
      },
      "execution_count": 3,
      "outputs": [
        {
          "output_type": "stream",
          "name": "stdout",
          "text": [
            "Random Sample: [56 96 65 88 64 81 52  7 30 40]\n",
            "Stratified Sample:\n",
            "    Category  Value\n",
            "1         A     73\n",
            "21        A     89\n",
            "8         A     10\n",
            "37        A      8\n",
            "40        A     98\n",
            "58        B     73\n",
            "67        B     96\n",
            "74        B     34\n",
            "51        B     63\n",
            "60        B     55\n"
          ]
        },
        {
          "output_type": "stream",
          "name": "stderr",
          "text": [
            "<ipython-input-3-d3d4ffb9258a>:10: DeprecationWarning: DataFrameGroupBy.apply operated on the grouping columns. This behavior is deprecated, and in a future version of pandas the grouping columns will be excluded from the operation. Either pass `include_groups=False` to exclude the groupings or explicitly select the grouping columns after groupby to silence this warning.\n",
            "  stratified_sample = df.groupby('Category', group_keys=False).apply(lambda x: x.sample(5))\n"
          ]
        }
      ]
    },
    {
      "cell_type": "code",
      "source": [
        "#5. Write a Python function to calculate the range of a dataset.\n",
        "def calculate_range(data):\n",
        "    return max(data) - min(data)\n",
        "\n",
        "dataset = [4, 10, 15, 20, 25]\n",
        "print(\"Range:\", calculate_range(dataset))\n"
      ],
      "metadata": {
        "colab": {
          "base_uri": "https://localhost:8080/"
        },
        "id": "6WcluIPHV0EO",
        "outputId": "0dd67123-3299-4874-fce3-058963f9207d"
      },
      "execution_count": 4,
      "outputs": [
        {
          "output_type": "stream",
          "name": "stdout",
          "text": [
            "Range: 21\n"
          ]
        }
      ]
    },
    {
      "cell_type": "code",
      "source": [
        "#6. Create a dataset and plot its histogram to visualize skewness.\n",
        "import matplotlib.pyplot as plt\n",
        "import numpy as np\n",
        "\n",
        "data = np.random.gamma(2, 2, 1000)  # Skewed dataset\n",
        "plt.hist(data, bins=30, edgecolor='black')\n",
        "plt.title(\"Histogram to visualize skewness\")\n",
        "plt.show()\n"
      ],
      "metadata": {
        "colab": {
          "base_uri": "https://localhost:8080/",
          "height": 452
        },
        "id": "WtfwuaaLV8Tb",
        "outputId": "e179c85e-837c-469f-e4b5-2732cfd82503"
      },
      "execution_count": 7,
      "outputs": [
        {
          "output_type": "display_data",
          "data": {
            "text/plain": [
              "<Figure size 640x480 with 1 Axes>"
            ],
            "image/png": "[encoded data removed]"
          },
          "metadata": {}
        }
      ]
    },
    {
      "cell_type": "code",
      "source": [
        "#7. Calculate skewness and kurtosis of a dataset using Python libraries.\n",
        "from scipy.stats import skew, kurtosis\n",
        "\n",
        "data = np.random.normal(0, 1, 1000)  # Normal distribution\n",
        "print(\"Skewness:\", skew(data))\n",
        "print(\"Kurtosis:\", kurtosis(data))\n"
      ],
      "metadata": {
        "colab": {
          "base_uri": "https://localhost:8080/"
        },
        "id": "2dXymHVRV__I",
        "outputId": "45685b56-557f-463d-ccd0-fff506a596c0"
      },
      "execution_count": 8,
      "outputs": [
        {
          "output_type": "stream",
          "name": "stdout",
          "text": [
            "Skewness: 0.04891673448463894\n",
            "Kurtosis: -0.008994424721072036\n"
          ]
        }
      ]
    },
    {
      "cell_type": "code",
      "source": [
        "#8. Generate a dataset and demonstrate positive and negative skewness.\n",
        "data_positive = np.random.exponential(1, 1000)  # Positively skewed\n",
        "data_negative = -np.random.exponential(1, 1000)  # Negatively skewed\n",
        "\n",
        "plt.hist(data_positive, bins=30, alpha=0.5, label=\"Positive Skew\")\n",
        "plt.hist(data_negative, bins=30, alpha=0.5, label=\"Negative Skew\")\n",
        "plt.legend()\n",
        "plt.show()\n"
      ],
      "metadata": {
        "colab": {
          "base_uri": "https://localhost:8080/",
          "height": 430
        },
        "id": "2JADvFQ3WL3J",
        "outputId": "a3c10d9a-0541-4e34-a449-db24c6aaad6c"
      },
      "execution_count": 9,
      "outputs": [
        {
          "output_type": "display_data",
          "data": {
            "text/plain": [
              "<Figure size 640x480 with 1 Axes>"
            ],
            "image/png": "[encoded data removed]"
          },
          "metadata": {}
        }
      ]
    },
    {
      "cell_type": "code",
      "source": [
        "\n",
        "#9. Write a Python script to calculate covariance between two datasets.\n",
        "\n",
        "x = [1, 2, 3, 4, 5]\n",
        "y = [2, 4, 6, 8, 10]\n",
        "\n",
        "covariance = np.cov(x, y, bias=False)[0][1]\n",
        "print(\"Covariance:\", covariance)\n"
      ],
      "metadata": {
        "colab": {
          "base_uri": "https://localhost:8080/"
        },
        "id": "i-rHiR7_WjH0",
        "outputId": "cc26df91-89ed-442e-daf6-6f9c88dc4db7"
      },
      "execution_count": 10,
      "outputs": [
        {
          "output_type": "stream",
          "name": "stdout",
          "text": [
            "Covariance: 5.0\n"
          ]
        }
      ]
    },
    {
      "cell_type": "code",
      "source": [
        "#10. Write a Python script to calculate the correlation coefficient between two datasets.\n",
        "correlation = np.corrcoef(x, y)[0][1]\n",
        "print(\"Correlation Coefficient:\", correlation)\n"
      ],
      "metadata": {
        "colab": {
          "base_uri": "https://localhost:8080/"
        },
        "id": "sdt138C1WvEe",
        "outputId": "95fd2ea1-c6bc-4952-a66e-0ee4a7092b64"
      },
      "execution_count": 11,
      "outputs": [
        {
          "output_type": "stream",
          "name": "stdout",
          "text": [
            "Correlation Coefficient: 0.9999999999999999\n"
          ]
        }
      ]
    },
    {
      "cell_type": "code",
      "source": [
        "#11. Create a scatter plot to visualize the relationship between two variables.\n",
        "\n",
        "plt.scatter(x, y)\n",
        "plt.xlabel(\"X values\")\n",
        "plt.ylabel(\"Y values\")\n",
        "plt.title(\"Scatter Plot\")\n",
        "plt.show()\n"
      ],
      "metadata": {
        "colab": {
          "base_uri": "https://localhost:8080/",
          "height": 472
        },
        "id": "xPxeNh3LW1RY",
        "outputId": "f06915d4-a76a-4a38-efc9-43fa738ecd1a"
      },
      "execution_count": 12,
      "outputs": [
        {
          "output_type": "display_data",
          "data": {
            "text/plain": [
              "<Figure size 640x480 with 1 Axes>"
            ],
            "image/png": "[encoded data removed]"
          },
          "metadata": {}
        }
      ]
    },
    {
      "cell_type": "code",
      "source": [
        "#12. Implement and compare simple random sampling and systematic sampling.\n",
        "def systematic_sampling(data, step):\n",
        "    return data[::step]\n",
        "\n",
        "data = np.arange(1, 101)\n",
        "random_sample = np.random.choice(data, 10, replace=False)\n",
        "systematic_sample = systematic_sampling(data, 10)\n",
        "\n",
        "print(\"Random Sample:\", random_sample)\n",
        "print(\"Systematic Sample:\", systematic_sample)\n"
      ],
      "metadata": {
        "colab": {
          "base_uri": "https://localhost:8080/"
        },
        "id": "aWv0fRWHW9l-",
        "outputId": "706a0b7f-d135-4d53-8daa-cca53f94ab01"
      },
      "execution_count": 13,
      "outputs": [
        {
          "output_type": "stream",
          "name": "stdout",
          "text": [
            "Random Sample: [24 15 61 22 25 78 82 41 35 14]\n",
            "Systematic Sample: [ 1 11 21 31 41 51 61 71 81 91]\n"
          ]
        }
      ]
    },
    {
      "cell_type": "code",
      "source": [
        "#13. Calculate the mean, median, and mode of grouped data.\n",
        "\n",
        "import numpy as np\n",
        "from scipy import stats\n",
        "\n",
        "data = [10, 20, 20, 30, 40, 50, 50, 50, 60]\n",
        "\n",
        "mean = np.mean(data)\n",
        "median = np.median(data)\n",
        "mode = stats.mode(data, keepdims=True).mode[0]  # Use .mode[0] for new SciPy versions\n",
        "\n",
        "print(\"Mean:\", mean)\n",
        "print(\"Median:\", median)\n",
        "print(\"Mode:\", mode)\n",
        "\n"
      ],
      "metadata": {
        "colab": {
          "base_uri": "https://localhost:8080/"
        },
        "id": "yFUuQPAfXFH1",
        "outputId": "37c93156-c532-46d3-ca14-6a64fefc59eb"
      },
      "execution_count": 19,
      "outputs": [
        {
          "output_type": "stream",
          "name": "stdout",
          "text": [
            "Mean: 36.666666666666664\n",
            "Median: 40.0\n",
            "Mode: 50\n"
          ]
        }
      ]
    },
    {
      "cell_type": "code",
      "source": [
        "#14. Simulate data using Python and calculate its central tendency and dispersion.\n",
        "simulated_data = np.random.normal(50, 15, 1000)  # Normal distribution with mean=50, std=15\n",
        "mean = np.mean(simulated_data)\n",
        "median = np.median(simulated_data)\n",
        "std_dev = np.std(simulated_data)\n",
        "\n",
        "print(\"Mean:\", mean)\n",
        "print(\"Median:\", median)\n",
        "print(\"Standard Deviation:\", std_dev)\n"
      ],
      "metadata": {
        "colab": {
          "base_uri": "https://localhost:8080/"
        },
        "id": "KmrmH5mfXJKM",
        "outputId": "a148b9af-7bfa-4f0b-a99c-4ece5c5045e1"
      },
      "execution_count": 20,
      "outputs": [
        {
          "output_type": "stream",
          "name": "stdout",
          "text": [
            "Mean: 49.20729093578003\n",
            "Median: 49.200985419910296\n",
            "Standard Deviation: 14.752308277849368\n"
          ]
        }
      ]
    },
    {
      "cell_type": "code",
      "source": [
        "#15. Use NumPy or pandas to summarize a dataset’s descriptive statistics.\n",
        "import pandas as pd\n",
        "\n",
        "data = {'Scores': [85, 90, 78, 92, 88, 76, 95, 89]}\n",
        "df = pd.DataFrame(data)\n",
        "print(df.describe())"
      ],
      "metadata": {
        "colab": {
          "base_uri": "https://localhost:8080/"
        },
        "id": "P5QnqVCFYBSc",
        "outputId": "c9efcd46-3892-4d8f-d541-ed44de223677"
      },
      "execution_count": 21,
      "outputs": [
        {
          "output_type": "stream",
          "name": "stdout",
          "text": [
            "          Scores\n",
            "count   8.000000\n",
            "mean   86.625000\n",
            "std     6.631903\n",
            "min    76.000000\n",
            "25%    83.250000\n",
            "50%    88.500000\n",
            "75%    90.500000\n",
            "max    95.000000\n"
          ]
        }
      ]
    },
    {
      "cell_type": "code",
      "source": [
        "#16. Plot a boxplot to understand the spread and identify outliers.\n",
        "import matplotlib.pyplot as plt\n",
        "import seaborn as sns\n",
        "\n",
        "sns.boxplot(df['Scores'])\n",
        "plt.title(\"Boxplot of Scores\")\n",
        "plt.show()\n"
      ],
      "metadata": {
        "colab": {
          "base_uri": "https://localhost:8080/",
          "height": 433
        },
        "id": "7_xPlyC9YIiJ",
        "outputId": "decbeb8a-2a35-460a-fe48-252a2c913c1c"
      },
      "execution_count": 23,
      "outputs": [
        {
          "output_type": "display_data",
          "data": {
            "text/plain": [
              "<Figure size 640x480 with 1 Axes>"
            ],
            "image/png": "[encoded data removed]"
          },
          "metadata": {}
        }
      ]
    },
    {
      "cell_type": "code",
      "source": [
        "#17. Calculate the interquartile range (IQR) of a dataset.\n",
        "\n",
        "import numpy as np\n",
        "\n",
        "Q1 = np.percentile(df['Scores'], 25)\n",
        "Q3 = np.percentile(df['Scores'], 75)\n",
        "IQR = Q3 - Q1\n",
        "\n",
        "print(\"Interquartile Range (IQR):\", IQR)\n"
      ],
      "metadata": {
        "id": "KhRlUiflYSZr",
        "outputId": "e8866895-271f-4446-f880-b09b54982aa1",
        "colab": {
          "base_uri": "https://localhost:8080/"
        }
      },
      "execution_count": 24,
      "outputs": [
        {
          "output_type": "stream",
          "name": "stdout",
          "text": [
            "Interquartile Range (IQR): 7.25\n"
          ]
        }
      ]
    },
    {
      "cell_type": "code",
      "source": [
        "#18. Implement Z-score normalization and explain its significance.\n",
        "\n",
        "from scipy.stats import zscore\n",
        "\n",
        "df['Z-score'] = zscore(df['Scores'])\n",
        "print(df)\n"
      ],
      "metadata": {
        "id": "XpEtuo2VYbSz",
        "outputId": "f8ee9f56-62c2-42c7-d119-d9bf0f0954f8",
        "colab": {
          "base_uri": "https://localhost:8080/"
        }
      },
      "execution_count": 25,
      "outputs": [
        {
          "output_type": "stream",
          "name": "stdout",
          "text": [
            "   Scores   Z-score\n",
            "0      85 -0.261946\n",
            "1      90  0.544041\n",
            "2      78 -1.390327\n",
            "3      92  0.866436\n",
            "4      88  0.221646\n",
            "5      76 -1.712721\n",
            "6      95  1.350027\n",
            "7      89  0.382844\n"
          ]
        }
      ]
    },
    {
      "cell_type": "code",
      "source": [
        "#19. Compare two datasets using their standard deviations.\n",
        "data2 = {'Scores': [70, 75, 80, 85, 90, 95, 100, 105]}\n",
        "df2 = pd.DataFrame(data2)\n",
        "\n",
        "std1 = df['Scores'].std()\n",
        "std2 = df2['Scores'].std()\n",
        "\n",
        "print(\"Standard Deviation of Dataset 1:\", std1)\n",
        "print(\"Standard Deviation of Dataset 2:\", std2)"
      ],
      "metadata": {
        "id": "cJOa1FHRYhWF",
        "outputId": "b5fa7c0d-581a-4616-8cfb-6fa9edb96824",
        "colab": {
          "base_uri": "https://localhost:8080/"
        }
      },
      "execution_count": 26,
      "outputs": [
        {
          "output_type": "stream",
          "name": "stdout",
          "text": [
            "Standard Deviation of Dataset 1: 6.631903411324901\n",
            "Standard Deviation of Dataset 2: 12.24744871391589\n"
          ]
        }
      ]
    },
    {
      "cell_type": "code",
      "source": [
        "#20. Write a Python program to visualize covariance using a heatmap.\n",
        "import seaborn as sns\n",
        "\n",
        "df_combined = pd.DataFrame({'Dataset1': df['Scores'], 'Dataset2': df2['Scores']})\n",
        "cov_matrix = df_combined.cov()\n",
        "\n",
        "sns.heatmap(cov_matrix, annot=True, cmap='coolwarm')\n",
        "plt.title(\"Covariance Heatmap\")\n",
        "plt.show()\n"
      ],
      "metadata": {
        "id": "_DocRLAFYntw",
        "outputId": "59b31a67-c378-4bbb-bdfd-9dbf4cb12581",
        "colab": {
          "base_uri": "https://localhost:8080/",
          "height": 452
        }
      },
      "execution_count": 27,
      "outputs": [
        {
          "output_type": "display_data",
          "data": {
            "text/plain": [
              "<Figure size 640x480 with 2 Axes>"
            ],
            "image/png": "[encoded data removed]"
          },
          "metadata": {}
        }
      ]
    },
    {
      "cell_type": "code",
      "source": [
        "#21. Use seaborn to create a correlation matrix for a dataset.\n",
        "correlation_matrix = df_combined.corr()\n",
        "\n",
        "sns.heatmap(correlation_matrix, annot=True, cmap='coolwarm')\n",
        "plt.title(\"Correlation Matrix\")\n",
        "plt.show()\n"
      ],
      "metadata": {
        "id": "184hGXw1YuFC",
        "outputId": "735cb91c-c612-49a2-b71a-eb0516ed1717",
        "colab": {
          "base_uri": "https://localhost:8080/",
          "height": 452
        }
      },
      "execution_count": 28,
      "outputs": [
        {
          "output_type": "display_data",
          "data": {
            "text/plain": [
              "<Figure size 640x480 with 2 Axes>"
            ],
            "image/png": "[encoded data removed]"
          },
          "metadata": {}
        }
      ]
    },
    {
      "cell_type": "code",
      "source": [
        "#22. Generate a dataset and implement both variance and standard deviation computations.\n",
        "np.random.seed(42)\n",
        "random_data = np.random.randint(50, 100, size=20)\n",
        "\n",
        "variance = np.var(random_data, ddof=1)\n",
        "std_dev = np.std(random_data, ddof=1)\n",
        "\n",
        "print(\"Variance:\", variance)\n",
        "print(\"Standard Deviation:\", std_dev)\n"
      ],
      "metadata": {
        "id": "vbagxg-eY1L8",
        "outputId": "8e79c293-36ed-412e-981c-eef71cab678f",
        "colab": {
          "base_uri": "https://localhost:8080/"
        }
      },
      "execution_count": 29,
      "outputs": [
        {
          "output_type": "stream",
          "name": "stdout",
          "text": [
            "Variance: 172.34473684210525\n",
            "Standard Deviation: 13.128013438525466\n"
          ]
        }
      ]
    },
    {
      "cell_type": "code",
      "source": [
        "#23. Visualize skewness and kurtosis using Python libraries like matplotlib or seaborn.\n",
        "from scipy.stats import skew, kurtosis\n",
        "\n",
        "sns.histplot(df['Scores'], kde=True)\n",
        "plt.title(\"Histogram to Show Skewness & Kurtosis\")\n",
        "plt.show()\n",
        "\n",
        "print(\"Skewness:\", skew(df['Scores']))\n",
        "print(\"Kurtosis:\", kurtosis(df['Scores']))"
      ],
      "metadata": {
        "id": "pmqCPUdoa_S_",
        "outputId": "cdd02fe7-63e0-466f-b55e-190f65f90188",
        "colab": {
          "base_uri": "https://localhost:8080/",
          "height": 507
        }
      },
      "execution_count": 30,
      "outputs": [
        {
          "output_type": "display_data",
          "data": {
            "text/plain": [
              "<Figure size 640x480 with 1 Axes>"
            ],
            "image/png": "[encoded data removed]"
          },
          "metadata": {}
        },
        {
          "output_type": "stream",
          "name": "stdout",
          "text": [
            "Skewness: -0.5488267616579556\n",
            "Kurtosis: -0.9571257534779041\n"
          ]
        }
      ]
    },
    {
      "cell_type": "code",
      "source": [
        "#24. Implement the Pearson and Spearman correlation coefficients for a dataset.\n",
        "from scipy.stats import pearsonr, spearmanr\n",
        "\n",
        "pearson_corr, _ = pearsonr(df['Scores'], df2['Scores'])\n",
        "spearman_corr, _ = spearmanr(df['Scores'], df2['Scores'])\n",
        "\n",
        "print(\"Pearson Correlation:\", pearson_corr)\n",
        "print(\"Spearman Correlation:\", spearman_corr)\n"
      ],
      "metadata": {
        "id": "HF8yJa7DbMbv",
        "outputId": "8fef8fb1-7c76-4bd3-af0d-770121ad1be5",
        "colab": {
          "base_uri": "https://localhost:8080/"
        }
      },
      "execution_count": 31,
      "outputs": [
        {
          "output_type": "stream",
          "name": "stdout",
          "text": [
            "Pearson Correlation: 0.18907173186906803\n",
            "Spearman Correlation: 0.2142857142857143\n"
          ]
        }
      ]
    },
    {
      "cell_type": "code",
      "source": [],
      "metadata": {
        "id": "oC4-34CTbUkv"
      },
      "execution_count": null,
      "outputs": []
    },
    {
      "cell_type": "markdown",
      "source": [],
      "metadata": {
        "id": "TFPp8oRmSj6t"
      }
    }
  ]
}