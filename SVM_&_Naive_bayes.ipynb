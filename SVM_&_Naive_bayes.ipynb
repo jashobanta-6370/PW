{
  "nbformat": 4,
  "nbformat_minor": 0,
  "metadata": {
    "colab": {
      "provenance": []
    },
    "kernelspec": {
      "name": "python3",
      "display_name": "Python 3"
    },
    "language_info": {
      "name": "python"
    }
  },
  "cells": [
    {
      "cell_type": "markdown",
      "source": [
        "# 1. What is a Support Vector Machine (SVM)?\n",
        "SVM is a supervised learning algorithm used for classification and regression tasks.  \n",
        "It finds the optimal hyperplane that separates data points of different classes with the maximum margin.\n",
        "\n",
        "# 2. What is the difference between Hard Margin and Soft Margin SVM?\n",
        "- Hard Margin: Assumes data is perfectly linearly separable, no misclassification allowed.  \n",
        "- Soft Margin: Allows some misclassifications by introducing a penalty for errors, improving generalization.\n",
        "\n",
        "# 3. What is the mathematical intuition behind SVM?\n",
        "SVM aims to maximize the margin between support vectors of different classes while minimizing classification errors.  \n",
        "Mathematically, it solves:\n",
        "Minimize: (1/2)||w||²  \n",
        "Subject to: yᵢ(w·xᵢ + b) ≥ 1\n",
        "\n",
        "# 4. What is the role of Lagrange Multipliers in SVM?\n",
        "They transform the constrained optimization problem into an unconstrained one using the Lagrangian dual form, enabling kernel methods.\n",
        "\n",
        "# 5. What are Support Vectors in SVM?\n",
        "Support vectors are the closest data points to the decision boundary that influence the position and orientation of the hyperplane.\n",
        "\n",
        "# 6. What is a Support Vector Classifier (SVC)?\n",
        "An SVC is an SVM model for classification tasks, which uses the optimal hyperplane to separate classes.\n",
        "\n",
        "# 7. What is a Support Vector Regressor (SVR)?\n",
        "SVR applies the SVM principle to regression problems, fitting a function within a specified margin of tolerance (ε).\n",
        "\n",
        "# 8. What is the Kernel Trick in SVM?\n",
        "It allows SVM to operate in higher-dimensional spaces without explicitly computing transformations by using kernel functions.\n",
        "\n",
        "# 9. Compare Linear Kernel, Polynomial Kernel, and RBF Kernel.\n",
        "- Linear: Best for linearly separable data.  \n",
        "- Polynomial: Captures polynomial relationships.  \n",
        "- RBF: Handles complex, non-linear boundaries by mapping data into infinite dimensions.\n",
        "\n",
        "# 10. What is the effect of the C parameter in SVM?\n",
        "C controls the trade-off between maximizing margin and minimizing misclassification.  \n",
        "- Large C: Low bias, high variance (less tolerance for misclassification).  \n",
        "- Small C: High bias, low variance (more tolerance for misclassification).\n",
        "\n",
        "# 11. What is the role of the Gamma parameter in RBF Kernel SVM?\n",
        "Gamma defines the influence range of a single training example.  \n",
        "- High gamma: Closer points affect the decision boundary.  \n",
        "- Low gamma: Farther points have influence.\n",
        "\n",
        "# 12. What is the Naïve Bayes classifier, and why is it called \"Naïve\"?\n",
        "Naïve Bayes is a probabilistic classifier based on Bayes’ theorem with the assumption that features are conditionally independent.  \n",
        "It’s “naïve” because it ignores correlations between features.\n",
        "\n",
        "# 13. What is Bayes’ Theorem?\n",
        "P(A|B) = [P(B|A) * P(A)] / P(B)  \n",
        "Where:  \n",
        "P(A|B) = Posterior probability  \n",
        "P(B|A) = Likelihood  \n",
        "P(A) = Prior probability  \n",
        "P(B) = Evidence\n",
        "\n",
        "# 14. Differences between Gaussian, Multinomial, and Bernoulli Naïve Bayes.\n",
        "- Gaussian: Assumes features are continuous and follow a normal distribution.  \n",
        "- Multinomial: Best for discrete counts (e.g., word counts).  \n",
        "- Bernoulli: For binary/boolean features.\n",
        "\n",
        "# 15. When should you use Gaussian Naïve Bayes over other variants?\n",
        "When features are continuous and approximately normally distributed.\n",
        "\n",
        "# 16. Key assumptions made by Naïve Bayes.\n",
        "- Features are conditionally independent given the class.  \n",
        "- All features contribute equally to the outcome.\n",
        "\n",
        "# 17. Advantages and disadvantages of Naïve Bayes.\n",
        "Advantages:  \n",
        "- Simple, fast, works well with small data.  \n",
        "- Handles high-dimensional data well.  \n",
        "Disadvantages:  \n",
        "- Assumption of feature independence often unrealistic.  \n",
        "- Poor performance if feature dependencies are strong.\n",
        "\n",
        "# 18. Why is Naïve Bayes a good choice for text classification?\n",
        "Because text features (word counts) are often independent and high-dimensional, making Naïve Bayes efficient and effective.\n",
        "\n",
        "# 19. Compare SVM and Naïve Bayes for classification tasks.\n",
        "- SVM: Works well with non-linear boundaries, robust to overfitting with proper tuning.  \n",
        "- Naïve Bayes: Very fast, good for text, but may fail if features are dependent.\n",
        "\n",
        "# 20. How does Laplace Smoothing help in Naïve Bayes?\n",
        "It prevents zero probability for unseen feature values by adding a small constant (usually 1) to counts.\n"
      ],
      "metadata": {
        "id": "y5oJOywddo1t"
      }
    },
    {
      "cell_type": "code",
      "source": [
        "# 21. Python: Train an SVM Classifier on Iris dataset and evaluate accuracy.\n",
        "from sklearn.datasets import load_iris\n",
        "from sklearn.svm import SVC\n",
        "from sklearn.model_selection import train_test_split\n",
        "\n",
        "iris = load_iris()\n",
        "X_train, X_test, y_train, y_test = train_test_split(iris.data, iris.target, test_size=0.2, random_state=42)\n",
        "model_svm = SVC()\n",
        "model_svm.fit(X_train, y_train)\n",
        "print(\"Accuracy:\", model_svm.score(X_test, y_test))\n"
      ],
      "metadata": {
        "colab": {
          "base_uri": "https://localhost:8080/"
        },
        "id": "_Z7cGzxzdrJE",
        "outputId": "76cd85c7-068d-4621-f8ea-2e4ad33d4844"
      },
      "execution_count": 5,
      "outputs": [
        {
          "output_type": "stream",
          "name": "stdout",
          "text": [
            "Accuracy: 1.0\n"
          ]
        }
      ]
    },
    {
      "cell_type": "code",
      "source": [
        "# 22. Python: Train two SVM classifiers (Linear & RBF) on Wine dataset, compare accuracies.\n",
        "from sklearn.datasets import load_wine\n",
        "wine = load_wine()\n",
        "X_train_w, X_test_w, y_train_w, y_test_w = train_test_split(wine.data, wine.target, test_size=0.2, random_state=42)\n",
        "svc_linear = SVC(kernel='linear')\n",
        "svc_rbf = SVC(kernel='rbf')\n",
        "svc_linear.fit(X_train_w, y_train_w)\n",
        "svc_rbf.fit(X_train_w, y_train_w)\n",
        "print(\"Linear Kernel Accuracy:\", svc_linear.score(X_test_w, y_test_w))\n",
        "print(\"RBF Kernel Accuracy:\", svc_rbf.score(X_test_w, y_test_w))\n"
      ],
      "metadata": {
        "colab": {
          "base_uri": "https://localhost:8080/"
        },
        "id": "qCidPjbFd0D9",
        "outputId": "95b60acc-f34d-4127-b469-5e98b7af6ff5"
      },
      "execution_count": 6,
      "outputs": [
        {
          "output_type": "stream",
          "name": "stdout",
          "text": [
            "Linear Kernel Accuracy: 1.0\n",
            "RBF Kernel Accuracy: 0.8055555555555556\n"
          ]
        }
      ]
    },
    {
      "cell_type": "code",
      "source": [
        "# 23. Python: Train an SVR on Housing dataset, evaluate with MSE.\n",
        "from sklearn.datasets import fetch_california_housing\n",
        "from sklearn.svm import SVR\n",
        "from sklearn.metrics import mean_squared_error\n",
        "housing = fetch_california_housing()\n",
        "X_train_h, X_test_h, y_train_h, y_test_h = train_test_split(housing.data, housing.target, test_size=0.2, random_state=42)\n",
        "svr = SVR()\n",
        "svr.fit(X_train_h, y_train_h)\n",
        "y_pred_h = svr.predict(X_test_h)\n",
        "print(\"MSE:\", mean_squared_error(y_test_h, y_pred_h))\n"
      ],
      "metadata": {
        "colab": {
          "base_uri": "https://localhost:8080/"
        },
        "id": "rsszyaPAd2fU",
        "outputId": "73914cfc-f38e-4296-e8cb-6893773b1839"
      },
      "execution_count": 7,
      "outputs": [
        {
          "output_type": "stream",
          "name": "stdout",
          "text": [
            "MSE: 1.3320115421348744\n"
          ]
        }
      ]
    },
    {
      "cell_type": "code",
      "source": [
        "# 24. Python: Train SVM Classifier with Polynomial Kernel & visualize decision boundary.\n",
        "# (Visualization part requires 2D data and matplotlib)\n",
        "import matplotlib.pyplot as plt\n",
        "import numpy as np\n",
        "from sklearn.datasets import make_classification\n",
        "X, y = make_classification(n_features=2, n_redundant=0, n_informative=2, random_state=42)\n",
        "model_poly = SVC(kernel='poly', degree=3)\n",
        "model_poly.fit(X, y)\n",
        "xx, yy = np.meshgrid(np.linspace(X[:,0].min()-1, X[:,0].max()+1, 100),\n",
        "                     np.linspace(X[:,1].min()-1, X[:,1].max()+1, 100))\n",
        "Z = model_poly.predict(np.c_[xx.ravel(), yy.ravel()]).reshape(xx.shape)\n",
        "plt.contourf(xx, yy, Z, alpha=0.3)\n",
        "plt.scatter(X[:,0], X[:,1], c=y)\n",
        "plt.show()\n"
      ],
      "metadata": {
        "colab": {
          "base_uri": "https://localhost:8080/",
          "height": 430
        },
        "id": "2IEk8ogDd5JU",
        "outputId": "2cc5b906-80c5-4d73-f0ad-4f26d08b05b9"
      },
      "execution_count": 8,
      "outputs": [
        {
          "output_type": "display_data",
          "data": {
            "text/plain": [
              "<Figure size 640x480 with 1 Axes>"
            ],
            "image/png": "[encoded data removed]"
          },
          "metadata": {}
        }
      ]
    },
    {
      "cell_type": "code",
      "source": [
        "# 25. Python: Train Gaussian Naïve Bayes on Breast Cancer dataset & evaluate accuracy.\n",
        "from sklearn.datasets import load_breast_cancer\n",
        "from sklearn.naive_bayes import GaussianNB\n",
        "cancer = load_breast_cancer()\n",
        "X_train_c, X_test_c, y_train_c, y_test_c = train_test_split(cancer.data, cancer.target, test_size=0.2, random_state=42)\n",
        "gnb = GaussianNB()\n",
        "gnb.fit(X_train_c, y_train_c)\n",
        "print(\"Accuracy:\", gnb.score(X_test_c, y_test_c))"
      ],
      "metadata": {
        "colab": {
          "base_uri": "https://localhost:8080/"
        },
        "id": "JydM1KZFd-Ht",
        "outputId": "110f6dfb-235d-4894-ff08-c0925f6c88a5"
      },
      "execution_count": 9,
      "outputs": [
        {
          "output_type": "stream",
          "name": "stdout",
          "text": [
            "Accuracy: 0.9736842105263158\n"
          ]
        }
      ]
    },
    {
      "cell_type": "code",
      "source": [
        "# 26. Python: Train Multinomial Naïve Bayes for text classification (20 Newsgroups).\n",
        "from sklearn.datasets import fetch_20newsgroups_vectorized\n",
        "from sklearn.naive_bayes import MultinomialNB\n",
        "data_news = fetch_20newsgroups_vectorized()\n",
        "X_train_n, X_test_n, y_train_n, y_test_n = train_test_split(data_news.data, data_news.target, test_size=0.2, random_state=42)\n",
        "mnb = MultinomialNB()\n",
        "mnb.fit(X_train_n, y_train_n)\n",
        "print(\"Accuracy:\", mnb.score(X_test_n, y_test_n))\n"
      ],
      "metadata": {
        "colab": {
          "base_uri": "https://localhost:8080/"
        },
        "id": "GHdLIukwd-3t",
        "outputId": "167ed2b5-8b42-48b0-ea7f-510ec2ebe00f"
      },
      "execution_count": 10,
      "outputs": [
        {
          "output_type": "stream",
          "name": "stdout",
          "text": [
            "Accuracy: 0.7445868316394167\n"
          ]
        }
      ]
    },
    {
      "cell_type": "code",
      "source": [
        "# 27. Write a Python program to train an SVM Classifier with different C values and compare the decision boundaries visually.\n",
        "import matplotlib.pyplot as plt\n",
        "import numpy as np\n",
        "from sklearn.datasets import make_classification\n",
        "from sklearn.svm import SVC\n",
        "\n",
        "X, y = make_classification(n_features=2, n_redundant=0, n_informative=2, random_state=42)\n",
        "C_values = [0.1, 1, 10]\n",
        "\n",
        "fig, axes = plt.subplots(1, 3, figsize=(12, 4))\n",
        "for idx, C in enumerate(C_values):\n",
        "    model = SVC(C=C, kernel='linear')\n",
        "    model.fit(X, y)\n",
        "    xx, yy = np.meshgrid(np.linspace(X[:,0].min()-1, X[:,0].max()+1, 100),\n",
        "                         np.linspace(X[:,1].min()-1, X[:,1].max()+1, 100))\n",
        "    Z = model.predict(np.c_[xx.ravel(), yy.ravel()]).reshape(xx.shape)\n",
        "    axes[idx].contourf(xx, yy, Z, alpha=0.3)\n",
        "    axes[idx].scatter(X[:,0], X[:,1], c=y)\n",
        "    axes[idx].set_title(f'C={C}')\n",
        "plt.show()\n"
      ],
      "metadata": {
        "colab": {
          "base_uri": "https://localhost:8080/",
          "height": 391
        },
        "id": "Ob6VgzeQ-J5T",
        "outputId": "512146d9-0c18-433d-bb9c-6137da783d39"
      },
      "execution_count": 1,
      "outputs": [
        {
          "output_type": "display_data",
          "data": {
            "text/plain": [
              "<Figure size 1200x400 with 3 Axes>"
            ],
            "image/png": "[encoded data removed]"
          },
          "metadata": {}
        }
      ]
    },
    {
      "cell_type": "code",
      "source": [
        "# 28. Write a Python program to train a Bernoulli Naïve Bayes classifier for binary classification on a dataset with binary features.\n",
        "from sklearn.naive_bayes import BernoulliNB\n",
        "from sklearn.datasets import make_classification\n",
        "from sklearn.model_selection import train_test_split\n",
        "\n",
        "X_bin, y_bin = make_classification(n_features=10, n_informative=5, n_classes=2, random_state=42)\n",
        "X_bin = (X_bin > 0).astype(int)\n",
        "X_train_b, X_test_b, y_train_b, y_test_b = train_test_split(X_bin, y_bin, test_size=0.2, random_state=42)\n",
        "\n",
        "bnb = BernoulliNB()\n",
        "bnb.fit(X_train_b, y_train_b)\n",
        "print(\"Accuracy:\", bnb.score(X_test_b, y_test_b))\n"
      ],
      "metadata": {
        "colab": {
          "base_uri": "https://localhost:8080/"
        },
        "id": "vy0Fiiyl-bwc",
        "outputId": "9966df7d-bbfe-4a1f-c943-8ff270015301"
      },
      "execution_count": 2,
      "outputs": [
        {
          "output_type": "stream",
          "name": "stdout",
          "text": [
            "Accuracy: 0.85\n"
          ]
        }
      ]
    },
    {
      "cell_type": "code",
      "source": [
        "# 29. Write a Python program to apply feature scaling before training an SVM model and compare results with unscaled data.\n",
        "from sklearn.preprocessing import StandardScaler\n",
        "\n",
        "# Without scaling\n",
        "model_no_scale = SVC()\n",
        "model_no_scale.fit(X_train, y_train)\n",
        "acc_no_scale = model_no_scale.score(X_test, y_test)\n",
        "\n",
        "# With scaling\n",
        "scaler = StandardScaler()\n",
        "X_train_s = scaler.fit_transform(X_train)\n",
        "X_test_s = scaler.transform(X_test)\n",
        "model_scaled = SVC()\n",
        "model_scaled.fit(X_train_s, y_train)\n",
        "acc_scaled = model_scaled.score(X_test_s, y_test)\n",
        "\n",
        "print(\"Accuracy without scaling:\", acc_no_scale)\n",
        "print(\"Accuracy with scaling:\", acc_scaled)\n"
      ],
      "metadata": {
        "colab": {
          "base_uri": "https://localhost:8080/"
        },
        "id": "SMIHjyCe-ffV",
        "outputId": "dbfa0718-51a4-42bf-aeb7-e05a56e010f5"
      },
      "execution_count": 11,
      "outputs": [
        {
          "output_type": "stream",
          "name": "stdout",
          "text": [
            "Accuracy without scaling: 1.0\n",
            "Accuracy with scaling: 1.0\n"
          ]
        }
      ]
    },
    {
      "cell_type": "code",
      "source": [
        "# 30. Write a Python program to train a Gaussian Naïve Bayes model and compare predictions before and after Laplace Smoothing.\n",
        "from sklearn.naive_bayes import GaussianNB\n",
        "from sklearn.model_selection import GridSearchCV\n",
        "\n",
        "gnb_no_smooth = GaussianNB(var_smoothing=1e-9)\n",
        "gnb_no_smooth.fit(X_train, y_train)\n",
        "pred_no_smooth = gnb_no_smooth.score(X_test, y_test)\n",
        "\n",
        "gnb_smooth = GaussianNB(var_smoothing=1e-5)\n",
        "gnb_smooth.fit(X_train, y_train)\n",
        "pred_smooth = gnb_smooth.score(X_test, y_test)\n",
        "\n",
        "print(\"Accuracy without Laplace smoothing:\", pred_no_smooth)\n",
        "print(\"Accuracy with Laplace smoothing:\", pred_smooth)\n",
        "\n",
        "# 31. Write a Python program to train an SVM Classifier and use GridSearchCV to tune hyperparameters (C, gamma, kernel).\n",
        "param_grid = {'C': [0.1, 1, 10], 'gamma': [0.1, 1], 'kernel': ['linear', 'rbf']}\n",
        "grid_svm = GridSearchCV(SVC(), param_grid, cv=5)\n",
        "grid_svm.fit(X_train, y_train)\n",
        "print(\"Best Parameters:\", grid_svm.best_params_)\n",
        "print(\"Best Score:\", grid_svm.best_score_)\n"
      ],
      "metadata": {
        "colab": {
          "base_uri": "https://localhost:8080/"
        },
        "id": "5DPBMrk8-52C",
        "outputId": "66776f78-5e64-459d-fdf2-29b707132d99"
      },
      "execution_count": 13,
      "outputs": [
        {
          "output_type": "stream",
          "name": "stdout",
          "text": [
            "Accuracy without Laplace smoothing: 1.0\n",
            "Accuracy with Laplace smoothing: 1.0\n",
            "Best Parameters: {'C': 1, 'gamma': 0.1, 'kernel': 'linear'}\n",
            "Best Score: 0.9583333333333334\n"
          ]
        }
      ]
    },
    {
      "cell_type": "code",
      "source": [
        "# 32. Write a Python program to train an SVM Classifier on an imbalanced dataset and apply class weighting.\n",
        "from sklearn.datasets import make_classification\n",
        "X_imb, y_imb = make_classification(n_classes=2, class_sep=2, weights=[0.9, 0.1], n_informative=3, n_redundant=0, flip_y=0, n_features=5, n_clusters_per_class=1, n_samples=200, random_state=10)\n",
        "X_train_i, X_test_i, y_train_i, y_test_i = train_test_split(X_imb, y_imb, test_size=0.2, random_state=42)\n",
        "\n",
        "model_no_weight = SVC()\n",
        "model_no_weight.fit(X_train_i, y_train_i)\n",
        "acc_no_weight = model_no_weight.score(X_test_i, y_test_i)\n",
        "\n",
        "model_weight = SVC(class_weight='balanced')\n",
        "model_weight.fit(X_train_i, y_train_i)\n",
        "acc_weight = model_weight.score(X_test_i, y_test_i)\n",
        "\n",
        "print(\"Accuracy without class weight:\", acc_no_weight)\n",
        "print(\"Accuracy with class weight:\", acc_weight)\n"
      ],
      "metadata": {
        "colab": {
          "base_uri": "https://localhost:8080/"
        },
        "id": "Bzqf7Def--WJ",
        "outputId": "5e5ef084-10ab-4018-8e2b-3d1ee2238ae5"
      },
      "execution_count": 14,
      "outputs": [
        {
          "output_type": "stream",
          "name": "stdout",
          "text": [
            "Accuracy without class weight: 1.0\n",
            "Accuracy with class weight: 0.95\n"
          ]
        }
      ]
    },
    {
      "cell_type": "code",
      "source": [
        "# 33. Write a Python program to implement a Naïve Bayes classifier for spam detection using email data.\n",
        "# (Example with fake text dataset)\n",
        "from sklearn.feature_extraction.text import CountVectorizer\n",
        "emails = [\"Win money now\", \"Hello friend, how are you?\", \"Claim your free prize\", \"Meeting tomorrow at 10\"]\n",
        "labels = [1, 0, 1, 0]  # 1 = spam, 0 = not spam\n",
        "vectorizer = CountVectorizer()\n",
        "X_email = vectorizer.fit_transform(emails)\n",
        "nb_spam = MultinomialNB()\n",
        "nb_spam.fit(X_email, labels)\n",
        "print(\"Predictions:\", nb_spam.predict(X_email))\n"
      ],
      "metadata": {
        "colab": {
          "base_uri": "https://localhost:8080/"
        },
        "id": "nu2nbtqG_CyM",
        "outputId": "14aa8259-c03f-429e-ee68-e32457a46160"
      },
      "execution_count": 15,
      "outputs": [
        {
          "output_type": "stream",
          "name": "stdout",
          "text": [
            "Predictions: [1 0 1 0]\n"
          ]
        }
      ]
    },
    {
      "cell_type": "code",
      "source": [
        "# 34. Write a Python program to train an SVM Classifier and a Naïve Bayes Classifier on the same dataset and compare accuracy.\n",
        "model_svm_comp = SVC()\n",
        "model_nb_comp = GaussianNB()\n",
        "model_svm_comp.fit(X_train, y_train)\n",
        "model_nb_comp.fit(X_train, y_train)\n",
        "print(\"SVM Accuracy:\", model_svm_comp.score(X_test, y_test))\n",
        "print(\"Naïve Bayes Accuracy:\", model_nb_comp.score(X_test, y_test))\n"
      ],
      "metadata": {
        "colab": {
          "base_uri": "https://localhost:8080/"
        },
        "id": "s6UmamGv_IB0",
        "outputId": "1600d7a8-eb81-42e9-f5d9-aa12b36d353a"
      },
      "execution_count": 16,
      "outputs": [
        {
          "output_type": "stream",
          "name": "stdout",
          "text": [
            "SVM Accuracy: 1.0\n",
            "Naïve Bayes Accuracy: 1.0\n"
          ]
        }
      ]
    },
    {
      "cell_type": "code",
      "source": [
        "# 35. Write a Python program to perform feature selection before training a Naïve Bayes classifier and compare results.\n",
        "from sklearn.feature_selection import SelectKBest, chi2\n",
        "selector = SelectKBest(chi2, k=5)\n",
        "X_train_sel = selector.fit_transform(X_train, y_train)\n",
        "X_test_sel = selector.transform(X_test)\n",
        "nb_sel = GaussianNB()\n",
        "nb_sel.fit(X_train_sel, y_train)\n",
        "print(\"Accuracy after feature selection:\", nb_sel.score(X_test_sel, y_test))\n"
      ],
      "metadata": {
        "colab": {
          "base_uri": "https://localhost:8080/"
        },
        "id": "YKuxaeJT_Iyz",
        "outputId": "c334632c-c6dc-4057-834f-c2fdd9c03234"
      },
      "execution_count": 17,
      "outputs": [
        {
          "output_type": "stream",
          "name": "stdout",
          "text": [
            "Accuracy after feature selection: 1.0\n"
          ]
        },
        {
          "output_type": "stream",
          "name": "stderr",
          "text": [
            "/usr/local/lib/python3.11/dist-packages/sklearn/feature_selection/_univariate_selection.py:783: UserWarning: k=5 is greater than n_features=4. All the features will be returned.\n",
            "  warnings.warn(\n"
          ]
        }
      ]
    },
    {
      "cell_type": "code",
      "source": [
        "# 36. Write a Python program to train an SVM Classifier using One-vs-Rest (OvR) and One-vs-One (OvO) strategies on the Wine dataset and compare accuracy.\n",
        "svc_ovr = SVC(decision_function_shape='ovr')\n",
        "svc_ovo = SVC(decision_function_shape='ovo')\n",
        "svc_ovr.fit(X_train_w, y_train_w)\n",
        "svc_ovo.fit(X_train_w, y_train_w)\n",
        "print(\"OvR Accuracy:\", svc_ovr.score(X_test_w, y_test_w))\n",
        "print(\"OvO Accuracy:\", svc_ovo.score(X_test_w, y_test_w))\n"
      ],
      "metadata": {
        "colab": {
          "base_uri": "https://localhost:8080/"
        },
        "id": "AJgnDAI2_LYr",
        "outputId": "8f9f2cbc-d1a2-4495-978f-c1cc318bf0e7"
      },
      "execution_count": 18,
      "outputs": [
        {
          "output_type": "stream",
          "name": "stdout",
          "text": [
            "OvR Accuracy: 0.8055555555555556\n",
            "OvO Accuracy: 0.8055555555555556\n"
          ]
        }
      ]
    },
    {
      "cell_type": "code",
      "source": [
        "# 37. Write a Python program to train an SVM Classifier using Linear, Polynomial, and RBF kernels on the Breast Cancer dataset and compare accuracy.\n",
        "kernels = ['linear', 'poly', 'rbf']\n",
        "for k in kernels:\n",
        "    model_k = SVC(kernel=k)\n",
        "    model_k.fit(X_train_c, y_train_c)\n",
        "    print(f\"Kernel={k}, Accuracy={model_k.score(X_test_c, y_test_c)}\")\n"
      ],
      "metadata": {
        "colab": {
          "base_uri": "https://localhost:8080/"
        },
        "id": "sznEGmDm_N7M",
        "outputId": "6462ba67-d036-46f1-a02f-a39d3dbb3000"
      },
      "execution_count": 19,
      "outputs": [
        {
          "output_type": "stream",
          "name": "stdout",
          "text": [
            "Kernel=linear, Accuracy=0.956140350877193\n",
            "Kernel=poly, Accuracy=0.9473684210526315\n",
            "Kernel=rbf, Accuracy=0.9473684210526315\n"
          ]
        }
      ]
    },
    {
      "cell_type": "code",
      "source": [
        "# 38. Write a Python program to train an SVM Classifier using Stratified K-Fold Cross-Validation and compute average accuracy.\n",
        "from sklearn.model_selection import StratifiedKFold, cross_val_score\n",
        "skf = StratifiedKFold(n_splits=5)\n",
        "scores = cross_val_score(SVC(), iris.data, iris.target, cv=skf)\n",
        "print(\"Average Accuracy:\", scores.mean())\n"
      ],
      "metadata": {
        "colab": {
          "base_uri": "https://localhost:8080/"
        },
        "id": "Owyh_w1L_Qi2",
        "outputId": "3c174a59-bc61-4e97-e6a5-e5b292b289b0"
      },
      "execution_count": 20,
      "outputs": [
        {
          "output_type": "stream",
          "name": "stdout",
          "text": [
            "Average Accuracy: 0.9666666666666666\n"
          ]
        }
      ]
    },
    {
      "cell_type": "code",
      "source": [
        "# 39. Write a Python program to train a Naïve Bayes classifier using different prior probabilities and compare performance.\n",
        "nb_prior1 = GaussianNB(priors=[0.3, 0.7])\n",
        "nb_prior2 = GaussianNB(priors=[0.5, 0.5])\n",
        "nb_prior1.fit(X_train_c, y_train_c)\n",
        "nb_prior2.fit(X_train_c, y_train_c)\n",
        "print(\"Accuracy (prior 0.3,0.7):\", nb_prior1.score(X_test_c, y_test_c))\n",
        "print(\"Accuracy (prior 0.5,0.5):\", nb_prior2.score(X_test_c, y_test_c))\n"
      ],
      "metadata": {
        "colab": {
          "base_uri": "https://localhost:8080/"
        },
        "id": "1DgzT9TD_TYW",
        "outputId": "8020e8c3-265c-457a-ac75-76dd57883791"
      },
      "execution_count": 21,
      "outputs": [
        {
          "output_type": "stream",
          "name": "stdout",
          "text": [
            "Accuracy (prior 0.3,0.7): 0.9649122807017544\n",
            "Accuracy (prior 0.5,0.5): 0.9736842105263158\n"
          ]
        }
      ]
    },
    {
      "cell_type": "code",
      "source": [
        "# 40. Write a Python program to perform Recursive Feature Elimination (RFE) before training an SVM Classifier and compare accuracy.\n",
        "from sklearn.feature_selection import RFE\n",
        "svc_rfe = SVC(kernel='linear')\n",
        "selector_rfe = RFE(svc_rfe, n_features_to_select=5)\n",
        "selector_rfe.fit(X_train, y_train)\n",
        "X_train_rfe = selector_rfe.transform(X_train)\n",
        "X_test_rfe = selector_rfe.transform(X_test)\n",
        "svc_rfe.fit(X_train_rfe, y_train)\n",
        "print(\"Accuracy after RFE:\", svc_rfe.score(X_test_rfe, y_test))\n"
      ],
      "metadata": {
        "colab": {
          "base_uri": "https://localhost:8080/"
        },
        "id": "1W-YybxJ_WDG",
        "outputId": "bad26394-9500-4eb6-a5c1-37dbf188b1e1"
      },
      "execution_count": 22,
      "outputs": [
        {
          "output_type": "stream",
          "name": "stdout",
          "text": [
            "Accuracy after RFE: 1.0\n"
          ]
        },
        {
          "output_type": "stream",
          "name": "stderr",
          "text": [
            "/usr/local/lib/python3.11/dist-packages/sklearn/feature_selection/_rfe.py:300: UserWarning: Found n_features_to_select=5 > n_features=4. There will be no feature selection and all features will be kept.\n",
            "  warnings.warn(\n"
          ]
        }
      ]
    },
    {
      "cell_type": "code",
      "source": [
        "# 41. Write a Python program to train an SVM Classifier and evaluate performance using Precision, Recall, and F1-Score instead of accuracy.\n",
        "from sklearn.metrics import precision_score, recall_score, f1_score\n",
        "y_pred_svm = model_svm.predict(X_test)\n",
        "print(\"Precision:\", precision_score(y_test, y_pred_svm, average='macro'))\n",
        "print(\"Recall:\", recall_score(y_test, y_pred_svm, average='macro'))\n",
        "print(\"F1-Score:\", f1_score(y_test, y_pred_svm, average='macro'))\n"
      ],
      "metadata": {
        "colab": {
          "base_uri": "https://localhost:8080/"
        },
        "id": "BYNpfWBs_Yq-",
        "outputId": "b9ec4b4c-23dd-4fcf-b48d-a4f476fa80b3"
      },
      "execution_count": 23,
      "outputs": [
        {
          "output_type": "stream",
          "name": "stdout",
          "text": [
            "Precision: 1.0\n",
            "Recall: 1.0\n",
            "F1-Score: 1.0\n"
          ]
        }
      ]
    },
    {
      "cell_type": "code",
      "source": [
        "# 42. Write a Python program to train a Naïve Bayes Classifier and evaluate performance using Log Loss.\n",
        "from sklearn.metrics import log_loss\n",
        "y_pred_prob = gnb.predict_proba(X_test_c)\n",
        "print(\"Log Loss:\", log_loss(y_test_c, y_pred_prob))\n"
      ],
      "metadata": {
        "colab": {
          "base_uri": "https://localhost:8080/"
        },
        "id": "7DVVJWNI_bjW",
        "outputId": "c158637b-645e-4f29-a666-ab5f00483cdb"
      },
      "execution_count": 24,
      "outputs": [
        {
          "output_type": "stream",
          "name": "stdout",
          "text": [
            "Log Loss: 0.2037342715214191\n"
          ]
        }
      ]
    },
    {
      "cell_type": "code",
      "source": [
        "# 43. Write a Python program to train an SVM Classifier and visualize the Confusion Matrix using seaborn.\n",
        "import seaborn as sns\n",
        "from sklearn.metrics import confusion_matrix\n",
        "cm = confusion_matrix(y_test, y_pred_svm)\n",
        "sns.heatmap(cm, annot=True, fmt='d', cmap='Blues')\n",
        "plt.xlabel(\"Predicted\")\n",
        "plt.ylabel(\"Actual\")\n",
        "plt.show()\n"
      ],
      "metadata": {
        "colab": {
          "base_uri": "https://localhost:8080/",
          "height": 449
        },
        "id": "Nz3ZFOQR_dgV",
        "outputId": "e02804c3-b45e-46f5-f9b5-1ead07e1c0a7"
      },
      "execution_count": 25,
      "outputs": [
        {
          "output_type": "display_data",
          "data": {
            "text/plain": [
              "<Figure size 640x480 with 2 Axes>"
            ],
            "image/png": "[encoded data removed]"
          },
          "metadata": {}
        }
      ]
    },
    {
      "cell_type": "code",
      "source": [
        "# 44. Write a Python program to train an SVM Regressor (SVR) and evaluate performance using Mean Absolute Error (MAE).\n",
        "from sklearn.metrics import mean_absolute_error\n",
        "svr_mae = SVR()\n",
        "svr_mae.fit(X_train_h, y_train_h)\n",
        "y_pred_mae = svr_mae.predict(X_test_h)\n",
        "print(\"MAE:\", mean_absolute_error(y_test_h, y_pred_mae))\n"
      ],
      "metadata": {
        "colab": {
          "base_uri": "https://localhost:8080/"
        },
        "id": "oHjbu-8G_f1y",
        "outputId": "31db1211-29de-4059-be6e-cc98c3b06e01"
      },
      "execution_count": 26,
      "outputs": [
        {
          "output_type": "stream",
          "name": "stdout",
          "text": [
            "MAE: 0.8599506583445761\n"
          ]
        }
      ]
    },
    {
      "cell_type": "code",
      "source": [
        "# 45. Write a Python program to train a Naïve Bayes classifier and evaluate performance using the ROC-AUC score.\n",
        "from sklearn.metrics import roc_auc_score\n",
        "y_prob_c = gnb.predict_proba(X_test_c)[:, 1]\n",
        "print(\"ROC-AUC:\", roc_auc_score(y_test_c, y_prob_c))\n"
      ],
      "metadata": {
        "colab": {
          "base_uri": "https://localhost:8080/"
        },
        "id": "JbDM53DF_jwo",
        "outputId": "6b038385-628c-450f-e606-70d3b44aceed"
      },
      "execution_count": 27,
      "outputs": [
        {
          "output_type": "stream",
          "name": "stdout",
          "text": [
            "ROC-AUC: 0.9983622666229938\n"
          ]
        }
      ]
    },
    {
      "cell_type": "code",
      "source": [
        "# 46. Write a Python program to train an SVM Classifier and visualize the Precision-Recall Curve.\n",
        "from sklearn.datasets import load_breast_cancer\n",
        "from sklearn.svm import SVC\n",
        "from sklearn.model_selection import train_test_split\n",
        "from sklearn.metrics import precision_recall_curve\n",
        "import matplotlib.pyplot as plt\n",
        "\n",
        "# Load binary dataset\n",
        "data_bin = load_breast_cancer()\n",
        "X_train_bin, X_test_bin, y_train_bin, y_test_bin = train_test_split(data_bin.data, data_bin.target, test_size=0.2, random_state=42)\n",
        "\n",
        "# Train SVM with probability outputs enabled\n",
        "model_svm_bin = SVC(probability=True)\n",
        "model_svm_bin.fit(X_train_bin, y_train_bin)\n",
        "\n",
        "# Get decision scores\n",
        "y_scores_svm_bin = model_svm_bin.decision_function(X_test_bin)\n",
        "\n",
        "# Compute precision-recall\n",
        "prec, rec, _ = precision_recall_curve(y_test_bin, y_scores_svm_bin, pos_label=1)\n",
        "\n",
        "# Plot\n",
        "plt.plot(rec, prec)\n",
        "plt.xlabel('Recall')\n",
        "plt.ylabel('Precision')\n",
        "plt.title('Precision-Recall Curve')\n",
        "plt.show()\n"
      ],
      "metadata": {
        "colab": {
          "base_uri": "https://localhost:8080/",
          "height": 472
        },
        "id": "Axj5wrzdAKkY",
        "outputId": "7e48a02c-99a4-4c86-c89e-74a4e96f9a73"
      },
      "execution_count": 29,
      "outputs": [
        {
          "output_type": "display_data",
          "data": {
            "text/plain": [
              "<Figure size 640x480 with 1 Axes>"
            ],
            "image/png": "[encoded data removed]"
          },
          "metadata": {}
        }
      ]
    }
  ]
}