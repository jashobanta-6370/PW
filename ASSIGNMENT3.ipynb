{
  "nbformat": 4,
  "nbformat_minor": 0,
  "metadata": {
    "colab": {
      "provenance": []
    },
    "kernelspec": {
      "name": "python3",
      "display_name": "Python 3"
    },
    "language_info": {
      "name": "python"
    }
  },
  "cells": [
    {
      "cell_type": "markdown",
      "source": [
        "Q1-What are data structures, and why are they important?\n",
        "\n",
        "Ans: Data structures are ways to store and organize data efficiently. They are important because they optimize operations like searching, sorting, and accessing data.\n",
        "Q2-Explain the difference between mutable and immutable data types with examples.\n",
        "Ans: Mutable data types (e.g., lists, dictionaries) allow modifications, while immutable data types (e.g., strings, tuples) do not.\n",
        "lst = [1, 2, 3]\n",
        "lst.append(4)  # Allowed\n",
        "\n",
        "# Immutable tuple\n",
        "tpl = (1, 2, 3)\n",
        "tpl[0] = 4  # Error\n",
        "\n",
        "Q3-What are the main differences between lists and tuples in Python?\n",
        "Ans: Lists are mutable, slower, and use more memory, while tuples are immutable, faster, and memory-efficient.\n",
        "\n",
        "Q4-Describe how dictionaries store data.\n",
        "\n",
        "Ans: Dictionaries store data as key-value pairs using a hash table, enabling fast retrieval based on unique keys.\n",
        "\n",
        "q5-Why might you use a set instead of a list in Python?\n",
        "\n",
        "Ans: Sets store only unique elements and allow fast membership testing, making them useful for removing duplicates.\n",
        "\n",
        "q6-What is a string in Python, and how is it different from a list?\n",
        "Ans: A string is an immutable sequence of characters, while a list is mutable and can contain elements of different types.\n",
        "\n",
        "q7-How do tuples ensure data integrity in Python?\n",
        "Ans: Tuples are immutable, preventing accidental modifications and ensuring that data remains unchanged.\n",
        "\n",
        "q8-What is a hash table, and how does it relate to dictionaries in Python?\n",
        "Ans: A hash table is a data structure that maps keys to values using a hashing function. Python dictionaries use hash tables for fast lookups.\n",
        "\n",
        "q9-Can lists contain different data types in Python?\n",
        "\n",
        "Ans: Yes, lists in Python can store elements of different data types.\n",
        "my_list = [1, \"hello\", 3.14, True]\n",
        "\n",
        "q10-Explain why strings are immutable in Python.\n",
        "\n",
        "Ans: Strings are immutable to enhance security, prevent unintended modifications, and optimize memory usage through interning.\n",
        "\n",
        "q11-What advantages do dictionaries offer over lists for certain tasks?\n",
        "\n",
        "Ans: Dictionaries provide fast lookups using keys (O(1) time complexity), whereas lists require linear searches (O(n) time complexity).\n",
        "\n",
        "q12-Describe a scenario where using a tuple would be preferable over a list.\n",
        "\n",
        "Ans: Tuples are preferable when defining constants (e.g., coordinates: (x, y)) to prevent accidental modifications.\n",
        "\n",
        "q13-How do sets handle duplicate values in Python?\n",
        "\n",
        "Ans: Sets automatically remove duplicate values, ensuring that all elements are unique.\n",
        "my_set = {1, 2, 2, 3}\n",
        "print(my_set)  # Output: {1, 2, 3}\n",
        "\n",
        "q14-How does the “in” keyword work differently for lists and dictionaries?\n",
        "\n",
        "Ans: For lists, in checks for values linearly (O(n)), while for dictionaries, it checks for keys using a hash table (O(1)).\n",
        "\n",
        "q15-Can you modify the elements of a tuple? Explain why or why not.\n",
        "Ans: No, tuples are immutable, meaning their elements cannot be changed after creation.\n",
        "\n",
        "q16-What is a nested dictionary, and give an example of its use case?\n",
        "\n",
        "Ans: A nested dictionary is a dictionary within another dictionary. It is useful for storing hierarchical data like student records.\n",
        "students = {\"Alice\": {\"Math\": 90, \"Science\": 85}, \"Bob\": {\"Math\": 80, \"Science\": 88}}\n",
        "\n",
        "q17-Describe the time complexity of accessing elements in a dictionary.\n",
        "Ans: Accessing elements in a dictionary has an average time complexity of O(1) due to hash table indexing.\n",
        "\n",
        "q18-In what situations are lists preferred over dictionaries?\n",
        "\n",
        "Ans: Lists are preferred when maintaining order, storing sequential data, or when indexing by position is required.\n",
        "\n",
        "q19-Why are dictionaries considered unordered, and how does that affect data retrieval?\n",
        "\n",
        "Ans: Dictionaries before Python 3.7 were unordered because they used hash tables, meaning retrieval order was not guaranteed.\n",
        "\n",
        "q20-Explain the difference between a list and a dictionary in terms of data retrieval.\n",
        "\n",
        "Ans: Lists retrieve data by index (O(1)), while dictionaries retrieve data by key (O(1) average case but O(n) worst case).\n",
        "\n"
      ],
      "metadata": {
        "id": "frf22GWCKASU"
      }
    },
    {
      "cell_type": "code",
      "execution_count": 1,
      "metadata": {
        "id": "d_FwvJXur19W",
        "colab": {
          "base_uri": "https://localhost:8080/"
        },
        "outputId": "f406a327-3c78-45e2-d423-915bce1133d3"
      },
      "outputs": [
        {
          "output_type": "stream",
          "name": "stdout",
          "text": [
            "YourName\n"
          ]
        }
      ],
      "source": [
        "#q1-Write a code to create a string with your name and print it.\n",
        "name = \"YourName\"\n",
        "print(name)\n"
      ]
    },
    {
      "cell_type": "code",
      "source": [
        "#q2-Write a code to find the length of the string \"Hello World\".\n",
        "text = \"Hello World\"\n",
        "print(len(text))"
      ],
      "metadata": {
        "colab": {
          "base_uri": "https://localhost:8080/"
        },
        "id": "fQv-bnnPRZRm",
        "outputId": "977b21c9-a9af-4634-ff73-2685be9f40f5"
      },
      "execution_count": 2,
      "outputs": [
        {
          "output_type": "stream",
          "name": "stdout",
          "text": [
            "11\n"
          ]
        }
      ]
    },
    {
      "cell_type": "code",
      "source": [
        "#q3-Write a code to slice the first 3 characters from the string \"Python Programming\".\n",
        "text = \"Python Programming\"\n",
        "print(text[:3])\n"
      ],
      "metadata": {
        "colab": {
          "base_uri": "https://localhost:8080/"
        },
        "id": "xt6NIR2IRfU9",
        "outputId": "25624d64-600d-4279-e18c-f459f112b974"
      },
      "execution_count": 3,
      "outputs": [
        {
          "output_type": "stream",
          "name": "stdout",
          "text": [
            "Pyt\n"
          ]
        }
      ]
    },
    {
      "cell_type": "code",
      "source": [
        "#q4-Write a code to convert the string \"hello\" to uppercase.\n",
        "text = \"hello\"\n",
        "print(text.upper())\n"
      ],
      "metadata": {
        "colab": {
          "base_uri": "https://localhost:8080/"
        },
        "id": "0b_u5PWgRoHl",
        "outputId": "94e7438d-0b69-450b-8f73-c10211830203"
      },
      "execution_count": 4,
      "outputs": [
        {
          "output_type": "stream",
          "name": "stdout",
          "text": [
            "HELLO\n"
          ]
        }
      ]
    },
    {
      "cell_type": "code",
      "source": [
        "#q5-Write a code to replace the word \"apple\" with \"orange\" in the string \"I like apple\".\n",
        "text = \"I like apple\"\n",
        "new_text = text.replace(\"apple\", \"orange\")\n",
        "print(new_text)\n"
      ],
      "metadata": {
        "colab": {
          "base_uri": "https://localhost:8080/"
        },
        "id": "mSxgKvr9RwSV",
        "outputId": "3a4a0fee-d2f0-4006-c7d3-2ca5cb197ade"
      },
      "execution_count": 5,
      "outputs": [
        {
          "output_type": "stream",
          "name": "stdout",
          "text": [
            "I like orange\n"
          ]
        }
      ]
    },
    {
      "cell_type": "code",
      "source": [
        "#q6-Write a code to create a list with numbers 1 to 5 and print it.\n",
        "numbers = [1, 2, 3, 4, 5]\n",
        "print(numbers)\n",
        "\n"
      ],
      "metadata": {
        "colab": {
          "base_uri": "https://localhost:8080/"
        },
        "id": "yNoCSQ5cR14F",
        "outputId": "aaa90fe5-75b0-4ed1-8f68-b9bd5a7ba4d2"
      },
      "execution_count": 6,
      "outputs": [
        {
          "output_type": "stream",
          "name": "stdout",
          "text": [
            "[1, 2, 3, 4, 5]\n"
          ]
        }
      ]
    },
    {
      "cell_type": "code",
      "source": [
        "#q7-Write a code to append the number 10 to the list [1, 2, 3, 4].\n",
        "numbers = [1, 2, 3, 4]\n",
        "numbers.append(10)\n",
        "print(numbers)\n"
      ],
      "metadata": {
        "colab": {
          "base_uri": "https://localhost:8080/"
        },
        "id": "R-XPeSeWR7JX",
        "outputId": "6d212a85-4d2d-4947-93de-11e0e692f001"
      },
      "execution_count": 7,
      "outputs": [
        {
          "output_type": "stream",
          "name": "stdout",
          "text": [
            "[1, 2, 3, 4, 10]\n"
          ]
        }
      ]
    },
    {
      "cell_type": "code",
      "source": [
        "#q8-Write a code to remove the number 3 from the list [1, 2, 3, 4, 5].\n",
        "numbers = [1, 2, 3, 4, 5]\n",
        "numbers.remove(3)\n",
        "print(numbers)\n"
      ],
      "metadata": {
        "colab": {
          "base_uri": "https://localhost:8080/"
        },
        "id": "9j4FWMs0SBlt",
        "outputId": "ab9b13f6-e299-4e25-bd57-612d8fee9a3e"
      },
      "execution_count": 8,
      "outputs": [
        {
          "output_type": "stream",
          "name": "stdout",
          "text": [
            "[1, 2, 4, 5]\n"
          ]
        }
      ]
    },
    {
      "cell_type": "code",
      "source": [
        "#q9-Write a code to access the second element in the list ['a', 'b', 'c', 'd'].\n",
        "letters = ['a', 'b', 'c', 'd']\n",
        "print(letters[1])\n"
      ],
      "metadata": {
        "colab": {
          "base_uri": "https://localhost:8080/"
        },
        "id": "eATGe2cGSJbF",
        "outputId": "cd42fb86-d3d5-47ec-afe9-6fea1c839b52"
      },
      "execution_count": 9,
      "outputs": [
        {
          "output_type": "stream",
          "name": "stdout",
          "text": [
            "b\n"
          ]
        }
      ]
    },
    {
      "cell_type": "code",
      "source": [
        "#q10-Write a code to reverse the list [10, 20, 30, 40, 50].\n",
        "numbers = [10, 20, 30, 40, 50]\n",
        "numbers.reverse()\n",
        "print(numbers)"
      ],
      "metadata": {
        "colab": {
          "base_uri": "https://localhost:8080/"
        },
        "id": "xctz8cExSPD1",
        "outputId": "bfbddef8-59b6-4f80-8222-d034c8abb046"
      },
      "execution_count": 11,
      "outputs": [
        {
          "output_type": "stream",
          "name": "stdout",
          "text": [
            "[50, 40, 30, 20, 10]\n"
          ]
        }
      ]
    },
    {
      "cell_type": "code",
      "source": [
        "#q11- Write a code to create a tuple with the elements 100, 200, 300 and print it.\n",
        "\n",
        "numbers = (100, 200, 300)\n",
        "print(numbers)\n"
      ],
      "metadata": {
        "colab": {
          "base_uri": "https://localhost:8080/"
        },
        "id": "15HhwM9hSV7W",
        "outputId": "d62544f1-b936-45a8-ee5a-fb838fbc57f7"
      },
      "execution_count": 12,
      "outputs": [
        {
          "output_type": "stream",
          "name": "stdout",
          "text": [
            "(100, 200, 300)\n"
          ]
        }
      ]
    },
    {
      "cell_type": "code",
      "source": [
        "#q12-Access the second-to-last element of the tuple ('red', 'green', 'blue', 'yellow').\n",
        "colors = ('red', 'green', 'blue', 'yellow')\n",
        "print(colors[-2])  # 'blue'\n"
      ],
      "metadata": {
        "colab": {
          "base_uri": "https://localhost:8080/"
        },
        "id": "afoOln4gVcl8",
        "outputId": "aa9cf574-4ba6-4bdc-a70a-4a7447ce89c0"
      },
      "execution_count": 13,
      "outputs": [
        {
          "output_type": "stream",
          "name": "stdout",
          "text": [
            "blue\n"
          ]
        }
      ]
    },
    {
      "cell_type": "code",
      "source": [
        "#q13Find the minimum number in the tuple (10, 20, 5, 15).\n",
        "numbers = (10, 20, 5, 15)\n",
        "print(min(numbers))\n"
      ],
      "metadata": {
        "colab": {
          "base_uri": "https://localhost:8080/"
        },
        "id": "tzjejObqXnVv",
        "outputId": "c0613dd0-0918-4d17-a7f3-59ae68b7ee90"
      },
      "execution_count": 14,
      "outputs": [
        {
          "output_type": "stream",
          "name": "stdout",
          "text": [
            "5\n"
          ]
        }
      ]
    },
    {
      "cell_type": "code",
      "source": [
        "#q14Find the index of the element \"cat\" in the tuple ('dog', 'cat', 'rabbit').\n",
        "animals = ('dog', 'cat', 'rabbit')\n",
        "print(animals.index('cat'))\n"
      ],
      "metadata": {
        "colab": {
          "base_uri": "https://localhost:8080/"
        },
        "id": "XW7-FoLTXwPo",
        "outputId": "5c2bfc7c-f464-42bd-90a4-008ee745c089"
      },
      "execution_count": 15,
      "outputs": [
        {
          "output_type": "stream",
          "name": "stdout",
          "text": [
            "1\n"
          ]
        }
      ]
    },
    {
      "cell_type": "code",
      "source": [
        "#Q15. Create a tuple containing three different fruits and check if \"kiwi\" is in it.\n",
        "fruits = ('apple', 'banana', 'mango')\n",
        "print(\"kiwi\" in fruits)  # False\n"
      ],
      "metadata": {
        "colab": {
          "base_uri": "https://localhost:8080/"
        },
        "id": "E2j-27dCYC4T",
        "outputId": "e24e85a5-b43e-40fc-cbe0-bdf9a1d0ed69"
      },
      "execution_count": 16,
      "outputs": [
        {
          "output_type": "stream",
          "name": "stdout",
          "text": [
            "False\n"
          ]
        }
      ]
    },
    {
      "cell_type": "code",
      "source": [
        "#q16- Create a set with the elements 'a', 'b', 'c' and print it.\n",
        "letters = {'a', 'b', 'c'}\n",
        "print(letters)"
      ],
      "metadata": {
        "colab": {
          "base_uri": "https://localhost:8080/"
        },
        "id": "XgPgbQtzYIrH",
        "outputId": "73fc218d-fd75-47f4-d022-b351cf08fce8"
      },
      "execution_count": 17,
      "outputs": [
        {
          "output_type": "stream",
          "name": "stdout",
          "text": [
            "{'b', 'c', 'a'}\n"
          ]
        }
      ]
    },
    {
      "cell_type": "code",
      "source": [
        "#q17. Clear all elements from the set {1, 2, 3, 4, 5}.\n",
        "numbers = {1, 2, 3, 4, 5}\n",
        "numbers.clear()\n",
        "print(numbers)  # Empty set {}\n"
      ],
      "metadata": {
        "colab": {
          "base_uri": "https://localhost:8080/"
        },
        "id": "99FoL8VTYQr_",
        "outputId": "71966b47-6a24-4aca-a6cb-76d9d29e0ab8"
      },
      "execution_count": 18,
      "outputs": [
        {
          "output_type": "stream",
          "name": "stdout",
          "text": [
            "set()\n"
          ]
        }
      ]
    },
    {
      "cell_type": "code",
      "source": [
        "#Remove the element 4 from the set {1, 2, 3, 4}.\n",
        "numbers = {1, 2, 3, 4}\n",
        "numbers.remove(4)\n",
        "print(numbers)  # {1, 2, 3}\n"
      ],
      "metadata": {
        "colab": {
          "base_uri": "https://localhost:8080/"
        },
        "id": "SWnf0CqtYUXS",
        "outputId": "dd1f6422-45b6-4dc0-b321-5ad3635b6455"
      },
      "execution_count": 19,
      "outputs": [
        {
          "output_type": "stream",
          "name": "stdout",
          "text": [
            "{1, 2, 3}\n"
          ]
        }
      ]
    },
    {
      "cell_type": "code",
      "source": [
        "#q19. Find the union of two sets {1, 2, 3} and {3, 4, 5}.\n",
        "set1 = {1, 2, 3}\n",
        "set2 = {3, 4, 5}\n",
        "print(set1.union(set2))  # {1, 2, 3, 4, 5}\n"
      ],
      "metadata": {
        "colab": {
          "base_uri": "https://localhost:8080/"
        },
        "id": "pTDB-mTxYZSD",
        "outputId": "b41772a4-babb-4066-8bbf-96f574c27276"
      },
      "execution_count": 20,
      "outputs": [
        {
          "output_type": "stream",
          "name": "stdout",
          "text": [
            "{1, 2, 3, 4, 5}\n"
          ]
        }
      ]
    },
    {
      "cell_type": "code",
      "source": [
        "#q20. Find the intersection of two sets {1, 2, 3} and {2, 3, 4}.\n",
        "set1 = {1, 2, 3}\n",
        "set2 = {2, 3, 4}\n",
        "print(set1.intersection(set2))  # {2, 3}\n"
      ],
      "metadata": {
        "colab": {
          "base_uri": "https://localhost:8080/"
        },
        "id": "XtUZfNnKYfH_",
        "outputId": "9858829a-67c5-4838-8379-7eff4d6b9463"
      },
      "execution_count": 21,
      "outputs": [
        {
          "output_type": "stream",
          "name": "stdout",
          "text": [
            "{2, 3}\n"
          ]
        }
      ]
    },
    {
      "cell_type": "code",
      "source": [
        "#q21-21. Create a dictionary with the keys \"name\", \"age\", and \"city\", and print it.\n",
        "person = {\"name\": \"John\", \"age\": 25, \"city\": \"New York\"}\n",
        "print(person)\n"
      ],
      "metadata": {
        "colab": {
          "base_uri": "https://localhost:8080/"
        },
        "id": "0juk8ytVYkkc",
        "outputId": "c9e31042-cbf9-420a-e912-14dcd96a0f86"
      },
      "execution_count": 22,
      "outputs": [
        {
          "output_type": "stream",
          "name": "stdout",
          "text": [
            "{'name': 'John', 'age': 25, 'city': 'New York'}\n"
          ]
        }
      ]
    },
    {
      "cell_type": "code",
      "source": [
        "#22. Add a new key-value pair \"country\": \"USA\" to the dictionary {'name': 'John', 'age': 25}.\n",
        "person = {'name': 'John', 'age': 25}\n",
        "person[\"country\"] = \"USA\"\n",
        "print(person)\n",
        "\n"
      ],
      "metadata": {
        "colab": {
          "base_uri": "https://localhost:8080/"
        },
        "id": "A8iVfqxUYzk8",
        "outputId": "5bfaca1c-6dbe-4c89-a44e-bb785641a08f"
      },
      "execution_count": 23,
      "outputs": [
        {
          "output_type": "stream",
          "name": "stdout",
          "text": [
            "{'name': 'John', 'age': 25, 'country': 'USA'}\n"
          ]
        }
      ]
    },
    {
      "cell_type": "code",
      "source": [
        "#23. Access the value associated with the key \"name\" in the dictionary {'name': 'Alice', 'age': 30}.\n",
        "person = {'name': 'Alice', 'age': 30}\n",
        "print(person[\"name\"])  # 'Alice'\n"
      ],
      "metadata": {
        "colab": {
          "base_uri": "https://localhost:8080/"
        },
        "id": "UEvGBFVGY3aQ",
        "outputId": "1134e048-68bb-44c1-a3fa-1b71af30cb44"
      },
      "execution_count": 24,
      "outputs": [
        {
          "output_type": "stream",
          "name": "stdout",
          "text": [
            "Alice\n"
          ]
        }
      ]
    },
    {
      "cell_type": "code",
      "source": [
        "#q24. Remove the key \"age\" from the dictionary {'name': 'Bob', 'age': 22, 'city': 'New York'}.\n",
        "person = {'name': 'Bob', 'age': 22, 'city': 'New York'}\n",
        "del person[\"age\"]\n",
        "print(person)\n",
        "\n"
      ],
      "metadata": {
        "colab": {
          "base_uri": "https://localhost:8080/"
        },
        "id": "scfh7gWwY8Hr",
        "outputId": "2334d0c1-def5-47a6-dcd1-6fc4ad1cc478"
      },
      "execution_count": 25,
      "outputs": [
        {
          "output_type": "stream",
          "name": "stdout",
          "text": [
            "{'name': 'Bob', 'city': 'New York'}\n"
          ]
        }
      ]
    },
    {
      "cell_type": "code",
      "source": [
        "#q25  Check if the key \"city\" exists in the dictionary {'name': 'Alice', 'city': 'Paris'}.\n",
        "person = {'name': 'Alice', 'city': 'Paris'}\n",
        "print(\"city\" in person)  # True\n"
      ],
      "metadata": {
        "colab": {
          "base_uri": "https://localhost:8080/"
        },
        "id": "CfSIahofZGDo",
        "outputId": "d701be6c-0111-4eb2-b1ff-2d6a252076c3"
      },
      "execution_count": 26,
      "outputs": [
        {
          "output_type": "stream",
          "name": "stdout",
          "text": [
            "True\n"
          ]
        }
      ]
    },
    {
      "cell_type": "code",
      "source": [
        "#q26 Create a list, a tuple, and a dictionary, and print them all.\n",
        "my_list = [1, 2, 3]\n",
        "my_tuple = (4, 5, 6)\n",
        "my_dict = {\"a\": 10, \"b\": 20}\n",
        "\n",
        "print(my_list)\n",
        "print(my_tuple)\n",
        "print(my_dict)\n"
      ],
      "metadata": {
        "colab": {
          "base_uri": "https://localhost:8080/"
        },
        "id": "yf5yAaimZMNE",
        "outputId": "061d3e95-e460-4abd-e31b-dac0c56a21bd"
      },
      "execution_count": 27,
      "outputs": [
        {
          "output_type": "stream",
          "name": "stdout",
          "text": [
            "[1, 2, 3]\n",
            "(4, 5, 6)\n",
            "{'a': 10, 'b': 20}\n"
          ]
        }
      ]
    },
    {
      "cell_type": "code",
      "source": [
        "#q27 Create a list of 5 random numbers between 1 and 100, sort it in ascending order, and print the result\n",
        "import random\n",
        "numbers = [random.randint(1, 100) for _ in range(5)]\n",
        "numbers.sort()\n",
        "print(numbers)\n",
        "\n"
      ],
      "metadata": {
        "colab": {
          "base_uri": "https://localhost:8080/"
        },
        "id": "AaZIDC0IZSYy",
        "outputId": "7e682d18-4f57-4e8c-b2fc-8b4a0095b48a"
      },
      "execution_count": 28,
      "outputs": [
        {
          "output_type": "stream",
          "name": "stdout",
          "text": [
            "[21, 26, 53, 85, 97]\n"
          ]
        }
      ]
    },
    {
      "cell_type": "code",
      "source": [
        "#q28 Create a list with strings and print the element at the third index.\n",
        "words = [\"apple\", \"banana\", \"cherry\", \"date\", \"fig\"]\n",
        "print(words[3])  # 'date'\n"
      ],
      "metadata": {
        "colab": {
          "base_uri": "https://localhost:8080/"
        },
        "id": "KkQXf0VoZYHV",
        "outputId": "019b0ee9-fdda-450e-8826-ea9ae8b66c14"
      },
      "execution_count": 29,
      "outputs": [
        {
          "output_type": "stream",
          "name": "stdout",
          "text": [
            "date\n"
          ]
        }
      ]
    },
    {
      "cell_type": "code",
      "source": [
        "#29Combine two dictionaries into one and print the result.\n",
        "dict1 = {\"a\": 1, \"b\": 2}\n",
        "dict2 = {\"c\": 3, \"d\": 4}\n",
        "\n",
        "combined_dict = {**dict1, **dict2}\n",
        "print(combined_dict)\n"
      ],
      "metadata": {
        "colab": {
          "base_uri": "https://localhost:8080/"
        },
        "id": "ivLcDdgTZeQP",
        "outputId": "15c84ab0-e54e-44cf-df34-7a7de2edade8"
      },
      "execution_count": 30,
      "outputs": [
        {
          "output_type": "stream",
          "name": "stdout",
          "text": [
            "{'a': 1, 'b': 2, 'c': 3, 'd': 4}\n"
          ]
        }
      ]
    },
    {
      "cell_type": "code",
      "source": [
        "#q30\n",
        "# List of strings\n",
        "string_list = [\"apple\", \"banana\", \"cherry\", \"apple\", \"banana\"]\n",
        "\n",
        "# Convert list to set (removes duplicates)\n",
        "string_set = set(string_list)\n",
        "\n",
        "# Print the result\n",
        "print(string_set)\n"
      ],
      "metadata": {
        "colab": {
          "base_uri": "https://localhost:8080/"
        },
        "id": "TB56aTHOZosz",
        "outputId": "a73e47c9-3dcb-4865-dc83-720b80c4aedb"
      },
      "execution_count": 31,
      "outputs": [
        {
          "output_type": "stream",
          "name": "stdout",
          "text": [
            "{'apple', 'banana', 'cherry'}\n"
          ]
        }
      ]
    }
  ]
}