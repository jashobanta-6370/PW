{
  "nbformat": 4,
  "nbformat_minor": 0,
  "metadata": {
    "colab": {
      "provenance": []
    },
    "kernelspec": {
      "name": "python3",
      "display_name": "Python 3"
    },
    "language_info": {
      "name": "python"
    }
  },
  "cells": [
    {
      "cell_type": "code",
      "execution_count": null,
      "metadata": {
        "id": "fGqDuMbYBc7V"
      },
      "outputs": [],
      "source": []
    },
    {
      "cell_type": "markdown",
      "source": [
        "#Q1What is a RESTful API?\n",
        "A RESTful API (Representational State Transfer) is a web service that uses HTTP methods to perform CRUD (Create, Read, Update, Delete) operations on resources, which are represented as URLs. It follows REST principles like statelessness, uniform interface, and resource-based structure.\n",
        "#Q2Explain the concept of API specification.\n",
        "An API specification defines how APIs should behave, including endpoints, methods, request/response formats, authentication, and status codes. Examples include OpenAPI (formerly Swagger), which helps developers understand and consume APIs consistently.\n",
        "\n",
        "\n",
        "#Q3What is Flask, and why is it popular for building APIs?\n",
        "Flask is a lightweight Python web framework that's easy to learn and use. It's popular for building APIs because it’s minimal, flexible, supports extensions like Flask-RESTful, and is ideal for rapid development.\n",
        "#Q4What is routing in Flask?\n",
        "Routing in Flask maps a URL to a specific function. When a user visits a URL, Flask runs the function associated with that route using the @app.route() decorator.\n",
        "#Q5How do you create a simple Flask application?\n",
        "from flask import Flask\n",
        "\n",
        "app = Flask(__name__)\n",
        "\n",
        "@app.route('/')\n",
        "def home():\n",
        "    return 'Hello, Flask!'\n",
        "\n",
        "if __name__ == '__main__':\n",
        "    app.run()\n",
        "#Q6What are HTTP methods used in RESTful APIs?\n",
        "GET – Retrieve data\n",
        "\n",
        "POST – Submit data\n",
        "\n",
        "PUT – Update data\n",
        "\n",
        "DELETE – Remove data\n",
        "\n",
        "PATCH – Partially update data\n",
        "#Q7What is the purpose of the @app.route() decorator in Flask?\n",
        "It defines the URL route for a function. When a request matches the URL pattern, Flask calls the associated function to generate a response.\n",
        "#Q8What is the difference between GET and POST HTTP methods?\n",
        "GET retrieves data from the server and is idempotent (no side-effects).\n",
        "\n",
        "POST submits data to the server and usually results in a change in server state.\n",
        "#Q9How do you handle errors in Flask APIs?\n",
        "@app.errorhandler(404)\n",
        "def not_found(e):\n",
        "    return {'error': 'Not Found'}, 404\n",
        "\n",
        "#Q10How do you connect Flask to a SQL database?\n",
        "from flask_sqlalchemy import SQLAlchemy\n",
        "\n",
        "app.config['SQLALCHEMY_DATABASE_URI'] = 'sqlite:///mydb.db'\n",
        "db = SQLAlchemy(app)\n",
        "#Q11What is the role of Flask-SQLAlchemy?\n",
        "Flask-SQLAlchemy is an ORM (Object Relational Mapper) that simplifies database operations by allowing you to interact with SQL databases using Python classes instead of raw SQL.\n",
        "#Q12What are Flask blueprints, and how are they useful?\n",
        "Blueprints are a way to organize Flask applications into modular components. They help manage routes and logic in larger applications by grouping related functionality.\n",
        "#Q13What is the purpose of Flask's request object?\n",
        "It provides access to incoming request data such as form fields, JSON data, headers, and query parameters.\n",
        "\n",
        "\n",
        "#Q14How do you create a RESTful API endpoint using Flask?\n",
        "from flask import Flask, jsonify\n",
        "\n",
        "@app.route('/api/data', methods=['GET'])\n",
        "def get_data():\n",
        "    return jsonify({'key': 'value'})\n",
        "#Q15What is the purpose of Flask's jsonify() function?\n",
        "jsonify() converts Python dictionaries/lists into JSON responses with proper headers (Content-Type: application/json).\n",
        "#Q16Explain Flask’s url_for() function.\n",
        "url_for('home')  # returns '/'\n",
        "#Q17How does Flask handle static files (CSS, JavaScript, etc.)?\n",
        "<link rel=\"stylesheet\" href=\"{{ url_for('static', filename='style.css') }}\">\n",
        "\n",
        "#Q18What is an API specification, and how does it help in building a Flask API?\n",
        "An API specification documents endpoints, data formats, and methods, making APIs easier to develop, test, and integrate. Tools like Swagger/OpenAPI work well with Flask.\n",
        "#Q19What are HTTP status codes, and why are they important in a Flask API?\n",
        "Status codes indicate the result of an HTTP request:\n",
        "\n",
        "200 OK – Success\n",
        "\n",
        "201 Created – Resource created\n",
        "\n",
        "400 Bad Request – Client error\n",
        "\n",
        "404 Not Found – Resource not found\n",
        "\n",
        "500 Internal Server Error – Server error\n",
        "They help clients understand the outcome of requests.\n",
        "#Q20How do you handle POST requests in Flask?\n",
        "from flask import request\n",
        "\n",
        "@app.route('/submit', methods=['POST'])\n",
        "def submit():\n",
        "    data = request.json\n",
        "    return jsonify(data), 201\n",
        "\n",
        "#Q21How would you secure a Flask API?\n",
        "Use HTTPS\n",
        "\n",
        "Authenticate with tokens (JWT, OAuth)\n",
        "\n",
        "Input validation and sanitization\n",
        "\n",
        "Use Flask-Limiter for rate limiting\n",
        "\n",
        "Protect sensitive routes with decorators\n",
        "#Q22What is the significance of the Flask-RESTful extension?\n",
        "It simplifies API development by providing a resource-oriented approach and automatic support for HTTP methods and request parsing.\n",
        "#Q23What is the role of Flask’s session object?\n",
        "session stores user-specific data between requests using secure cookies. It’s useful for managing user login sessions or temporary data."
      ],
      "metadata": {
        "id": "WLeyYgs9B2yT"
      }
    },
    {
      "cell_type": "code",
      "source": [],
      "metadata": {
        "id": "P5LXszYtDKn-"
      },
      "execution_count": null,
      "outputs": []
    },
    {
      "cell_type": "code",
      "source": [],
      "metadata": {
        "id": "dB1xA_P1FIKc"
      },
      "execution_count": null,
      "outputs": []
    },
    {
      "cell_type": "code",
      "source": [
        "1. How do you create a basic Flask application?\n",
        "from flask import Flask\n",
        "\n",
        "app = Flask(__name__)\n",
        "\n",
        "@app.route('/')\n",
        "def home():\n",
        "    return 'Hello, Flask!'\n",
        "\n",
        "if __name__ == '__main__':\n",
        "    app.run(debug=True)\n"
      ],
      "metadata": {
        "id": "KutCdQCkFI1m"
      },
      "execution_count": null,
      "outputs": []
    },
    {
      "cell_type": "code",
      "source": [
        "2. How do you serve static files like images or CSS in Flask?\n",
        "Flask automatically serves files from the static/ directory:\n",
        "<!-- In an HTML file -->\n",
        "<link rel=\"stylesheet\" href=\"{{ url_for('static', filename='style.css') }}\">\n",
        "<img src=\"{{ url_for('static', filename='logo.png') }}\">\n"
      ],
      "metadata": {
        "id": "UkQ3zTJ9FdwN"
      },
      "execution_count": null,
      "outputs": []
    },
    {
      "cell_type": "code",
      "source": [
        "3. How do you define different routes with different HTTP methods in Flask?\n",
        "from flask import request\n",
        "\n",
        "@app.route('/submit', methods=['GET', 'POST'])\n",
        "def submit():\n",
        "    if request.method == 'POST':\n",
        "        return 'Submitted via POST'\n",
        "    return 'Submit form via GET'\n"
      ],
      "metadata": {
        "id": "vfpsXR1oFeEG"
      },
      "execution_count": null,
      "outputs": []
    },
    {
      "cell_type": "code",
      "source": [
        "4. How do you render HTML templates in Flask?\n",
        "Use the render_template() function and create an HTML file in a templates/ directory.\n",
        "from flask import render_template\n",
        "\n",
        "@app.route('/about')\n",
        "def about():\n",
        "    return render_template('about.html')\n"
      ],
      "metadata": {
        "id": "Nv52LGHMFedx"
      },
      "execution_count": null,
      "outputs": []
    },
    {
      "cell_type": "code",
      "source": [
        "5. How can you generate URLs for routes in Flask using url_for?\n",
        "@app.route('/profile')\n",
        "def profile():\n",
        "    return 'User Profile Page'\n",
        "\n",
        "# Generating URL:\n",
        "url_for('profile')  # returns '/profile'\n"
      ],
      "metadata": {
        "id": "mLxWPDtsFe3A"
      },
      "execution_count": null,
      "outputs": []
    },
    {
      "cell_type": "code",
      "source": [
        "6. How do you handle forms in Flask?\n",
        "from flask import request\n",
        "\n",
        "@app.route('/login', methods=['GET', 'POST'])\n",
        "def login():\n",
        "    if request.method == 'POST':\n",
        "        username = request.form['username']\n",
        "        return f\"Welcome {username}\"\n",
        "    return render_template('login.html')\n"
      ],
      "metadata": {
        "id": "xhKA4F_4FfG0"
      },
      "execution_count": null,
      "outputs": []
    },
    {
      "cell_type": "code",
      "source": [
        "7. How can you validate form data in Flask?\n",
        "if not request.form['username']:\n",
        "    return 'Username is required'\n"
      ],
      "metadata": {
        "id": "okj29vbbFht3"
      },
      "execution_count": null,
      "outputs": []
    },
    {
      "cell_type": "code",
      "source": [
        "8. How do you manage sessions in Flask?\n",
        "from flask import session\n",
        "\n",
        "app.secret_key = 'mysecretkey'\n",
        "\n",
        "@app.route('/set')\n",
        "def set_session():\n",
        "    session['user'] = 'admin'\n",
        "    return 'Session set'\n",
        "\n",
        "@app.route('/get')\n",
        "def get_session():\n",
        "    return session.get('user', 'Not logged in')\n"
      ],
      "metadata": {
        "id": "gDb92nMuFiDO"
      },
      "execution_count": null,
      "outputs": []
    },
    {
      "cell_type": "code",
      "source": [
        "9. How do you redirect to a different route in Flask?\n",
        "from flask import redirect, url_for\n",
        "\n",
        "@app.route('/go-home')\n",
        "def go_home():\n",
        "    return redirect(url_for('home'))\n"
      ],
      "metadata": {
        "id": "1m7AharkFiqw"
      },
      "execution_count": null,
      "outputs": []
    },
    {
      "cell_type": "code",
      "source": [
        "10. How do you handle errors in Flask (e.g., 404)?\n",
        "@app.errorhandler(404)\n",
        "def not_found(e):\n",
        "    return render_template('404.html'), 404\n"
      ],
      "metadata": {
        "id": "FB6D5vVwGKp3"
      },
      "execution_count": null,
      "outputs": []
    },
    {
      "cell_type": "code",
      "source": [
        "11. How do you structure a Flask app using Blueprints?\n",
        "from flask import Blueprint\n",
        "\n",
        "main = Blueprint('main', __name__)\n",
        "\n",
        "@main.route('/')\n",
        "def home():\n",
        "    return 'Home from Blueprint'\n",
        "\n",
        "from flask import Flask\n",
        "from .routes import main\n",
        "\n",
        "def create_app():\n",
        "    app = Flask(__name__)\n",
        "    app.register_blueprint(main)\n",
        "    return app\n",
        "\n"
      ],
      "metadata": {
        "id": "Fk1njv5WGNl5"
      },
      "execution_count": null,
      "outputs": []
    },
    {
      "cell_type": "code",
      "source": [
        "12. How do you define a custom Jinja filter in Flask?\n",
        "@app.template_filter('reverse')\n",
        "def reverse_string(s):\n",
        "    return s[::-1]\n",
        "\n",
        "# In template: {{ \"Flask\" | reverse }} -> \"ksalF\"\n"
      ],
      "metadata": {
        "id": "VRIv_4Q8GRz3"
      },
      "execution_count": null,
      "outputs": []
    },
    {
      "cell_type": "code",
      "source": [
        "13. How can you redirect with query parameters in Flask?\n",
        "@app.route('/go')\n",
        "def go():\n",
        "    return redirect(url_for('welcome', name='Jude'))\n",
        "\n",
        "@app.route('/welcome')\n",
        "def welcome():\n",
        "    name = request.args.get('name')\n",
        "    return f\"Welcome {name}\"\n"
      ],
      "metadata": {
        "id": "Ciqsf36MGbEx"
      },
      "execution_count": null,
      "outputs": []
    },
    {
      "cell_type": "code",
      "source": [
        "14. How do you return JSON responses in Flask?\n",
        "from flask import jsonify\n",
        "\n",
        "@app.route('/api/user')\n",
        "def user():\n",
        "    return jsonify({'name': 'Jude', 'role': 'DevOps'})\n"
      ],
      "metadata": {
        "id": "ejUiT4p_GjAF"
      },
      "execution_count": null,
      "outputs": []
    },
    {
      "cell_type": "code",
      "source": [
        "15. How do you capture URL parameters in Flask?\n",
        "@app.route('/user/<username>')\n",
        "def user_profile(username):\n",
        "    return f\"Hello, {username}!\"\n"
      ],
      "metadata": {
        "id": "nhqyz3bUGlfs"
      },
      "execution_count": null,
      "outputs": []
    },
    {
      "cell_type": "code",
      "source": [],
      "metadata": {
        "id": "NoeAVI27Go_W"
      },
      "execution_count": null,
      "outputs": []
    }
  ]
}