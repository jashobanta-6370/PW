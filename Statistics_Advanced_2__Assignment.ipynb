{
  "nbformat": 4,
  "nbformat_minor": 0,
  "metadata": {
    "colab": {
      "provenance": []
    },
    "kernelspec": {
      "name": "python3",
      "display_name": "Python 3"
    },
    "language_info": {
      "name": "python"
    }
  },
  "cells": [
    {
      "cell_type": "markdown",
      "source": [
        "#Q1: What is hypothesis testing in statistics?\n",
        "Hypothesis testing is a statistical method used to make decisions or inferences about a population parameter based on sample data. It involves:\n",
        "\n",
        "Formulating two competing hypotheses — the null hypothesis (H₀) and the alternative hypothesis (H₁).\n",
        "\n",
        "Selecting a significance level (α).\n",
        "\n",
        "Calculating a test statistic from the sample.\n",
        "\n",
        "Comparing the statistic with a critical value or p-value to decide whether to reject H₀.\n",
        "\n"
      ],
      "metadata": {
        "id": "04cQmbXYAbcS"
      }
    },
    {
      "cell_type": "markdown",
      "source": [
        "#Q2: What is the null hypothesis, and how does it differ from the alternative hypothesis?\n",
        "Null Hypothesis (H₀): A statement assuming no effect, no difference, or the status quo. Example: The average height of students is 170 cm.\n",
        "\n",
        "Alternative Hypothesis (H₁ or Ha): A statement that contradicts H₀ and suggests there is an effect or difference. Example: The average height of students is not 170 cm.\n",
        "Difference: H₀ is assumed true until proven otherwise; H₁ is considered if evidence strongly suggests H₀ is false."
      ],
      "metadata": {
        "id": "YjTWgjRzAkUJ"
      }
    },
    {
      "cell_type": "markdown",
      "source": [
        "#Q3: Explain the significance level in hypothesis testing and its role in deciding the outcome of a test.\n",
        "The significance level (α) is the probability of rejecting H₀ when it is actually true (Type I error rate). Common values are 0.05 or 0.01.\n",
        "Role:\n",
        "\n",
        "If p-value ≤ α, reject H₀.\n",
        "\n",
        "If p-value > α, fail to reject H₀.\n",
        "It sets the strictness of the decision rule — lower α means stronger evidence is needed to reject H₀."
      ],
      "metadata": {
        "id": "8T6UO552Am6K"
      }
    },
    {
      "cell_type": "markdown",
      "source": [
        "#Q4: What are Type I and Type II errors? Give examples.\n",
        "Type I Error (False Positive): Rejecting H₀ when it is true. Example: Declaring a medicine effective when it isn’t.\n",
        "\n",
        "Type II Error (False Negative): Failing to reject H₀ when it is false. Example: Declaring a medicine ineffective when it actually works.\n",
        "\n"
      ],
      "metadata": {
        "id": "J0d76Z5XAnRa"
      }
    },
    {
      "cell_type": "markdown",
      "source": [
        "#Q5: What is the difference between a Z-test and a T-test? When to use each?\n",
        "Z-test: Used when population standard deviation (σ) is known and sample size is large (n ≥ 30).\n",
        "\n",
        "T-test: Used when σ is unknown and sample size is small (n < 30). Uses t-distribution instead of normal distribution."
      ],
      "metadata": {
        "id": "l6sW5EL0Anqb"
      }
    },
    {
      "cell_type": "markdown",
      "source": [
        "#Q6: Python program for binomial distribution\n"
      ],
      "metadata": {
        "id": "6Tnep5v5AoFZ"
      }
    },
    {
      "cell_type": "code",
      "source": [
        "#Q6: Python program for binomial distribution\n",
        "import numpy as np\n",
        "import matplotlib.pyplot as plt\n",
        "\n",
        "# Parameters\n",
        "n = 10\n",
        "p = 0.5\n",
        "size = 1000\n",
        "\n",
        "# Generate binomial distribution\n",
        "data = np.random.binomial(n, p, size)\n",
        "\n",
        "# Plot histogram\n",
        "plt.hist(data, bins=range(n+2), edgecolor='black', align='left')\n",
        "plt.title(f'Binomial Distribution (n={n}, p={p})')\n",
        "plt.xlabel('Number of Successes')\n",
        "plt.ylabel('Frequency')\n",
        "plt.show()\n"
      ],
      "metadata": {
        "colab": {
          "base_uri": "https://localhost:8080/",
          "height": 472
        },
        "id": "8qekKNLPFSZR",
        "outputId": "3b1faed2-a2f3-4f8d-ea40-bff007bba27c"
      },
      "execution_count": 2,
      "outputs": [
        {
          "output_type": "display_data",
          "data": {
            "text/plain": [
              "<Figure size 640x480 with 1 Axes>"
            ],
            "image/png": "[encoded data removed]"
          },
          "metadata": {}
        }
      ]
    },
    {
      "cell_type": "markdown",
      "source": [
        "#Q7: Hypothesis testing using Z-statistics\n"
      ],
      "metadata": {
        "id": "tFZ4PROEAooR"
      }
    },
    {
      "cell_type": "code",
      "source": [
        "import numpy as np\n",
        "from scipy import stats\n",
        "\n",
        "# Sample data\n",
        "sample_data = [49.1, 50.2, 51.0, 48.7, 50.5, 49.8, 50.3, 50.7, 50.2, 49.6,\n",
        "               50.1, 49.9, 50.8, 50.4, 48.9, 50.6, 50.0, 49.7, 50.2, 49.5,\n",
        "               50.1, 50.3, 50.4, 50.5, 50.0, 50.7, 49.3, 49.8, 50.2, 50.9,\n",
        "               50.3, 50.4, 50.0, 49.7, 50.5, 49.9]\n",
        "\n",
        "# Hypothesis: mean = 50\n",
        "mu = 50\n",
        "mean_sample = np.mean(sample_data)\n",
        "std_sample = np.std(sample_data, ddof=0)\n",
        "\n",
        "# Z-statistic\n",
        "z_stat = (mean_sample - mu) / (std_sample / np.sqrt(len(sample_data)))\n",
        "\n",
        "# p-value\n",
        "p_value = 2 * (1 - stats.norm.cdf(abs(z_stat)))\n",
        "\n",
        "print(f\"Z-statistic: {z_stat:.3f}\")\n",
        "print(f\"P-value: {p_value:.3f}\")\n",
        "\n",
        "if p_value < 0.05:\n",
        "    print(\"Reject H0\")\n",
        "else:\n",
        "    print(\"Fail to Reject H0\")\n"
      ],
      "metadata": {
        "colab": {
          "base_uri": "https://localhost:8080/"
        },
        "id": "UmgR6JqJFen5",
        "outputId": "9769875b-081c-4213-d083-7640d9c71733"
      },
      "execution_count": 3,
      "outputs": [
        {
          "output_type": "stream",
          "name": "stdout",
          "text": [
            "Z-statistic: 1.008\n",
            "P-value: 0.313\n",
            "Fail to Reject H0\n"
          ]
        }
      ]
    },
    {
      "cell_type": "markdown",
      "source": [
        "#Q8: Simulate normal distribution and 95% CI"
      ],
      "metadata": {
        "id": "3UFU4hW8ApFC"
      }
    },
    {
      "cell_type": "code",
      "source": [
        "import numpy as np\n",
        "import matplotlib.pyplot as plt\n",
        "from scipy import stats\n",
        "\n",
        "# Simulate data\n",
        "np.random.seed(42)\n",
        "data = np.random.normal(loc=100, scale=15, size=1000)\n",
        "\n",
        "# Calculate mean and CI\n",
        "mean = np.mean(data)\n",
        "sem = stats.sem(data)\n",
        "ci = stats.t.interval(0.95, len(data)-1, loc=mean, scale=sem)\n",
        "\n",
        "print(f\"Mean: {mean:.2f}\")\n",
        "print(f\"95% Confidence Interval: {ci}\")\n",
        "\n",
        "# Plot\n",
        "plt.hist(data, bins=30, edgecolor='black', alpha=0.7)\n",
        "plt.axvline(mean, color='red', linestyle='dashed', linewidth=2, label='Mean')\n",
        "plt.axvline(ci[0], color='green', linestyle='dashed', linewidth=2, label='95% CI Lower')\n",
        "plt.axvline(ci[1], color='green', linestyle='dashed', linewidth=2, label='95% CI Upper')\n",
        "plt.legend()\n",
        "plt.title('Normal Distribution with 95% CI')\n",
        "plt.show()\n"
      ],
      "metadata": {
        "colab": {
          "base_uri": "https://localhost:8080/",
          "height": 487
        },
        "id": "DSQksUx4Fi6R",
        "outputId": "841216f8-271a-4639-e352-7d49816da7fe"
      },
      "execution_count": 4,
      "outputs": [
        {
          "output_type": "stream",
          "name": "stdout",
          "text": [
            "Mean: 100.29\n",
            "95% Confidence Interval: (np.float64(99.37850677904946), np.float64(101.2014548956203))\n"
          ]
        },
        {
          "output_type": "display_data",
          "data": {
            "text/plain": [
              "<Figure size 640x480 with 1 Axes>"
            ],
            "image/png": "[encoded data removed]"
          },
          "metadata": {}
        }
      ]
    },
    {
      "cell_type": "markdown",
      "source": [
        "#Q9: Calculate Z-scores and histogram"
      ],
      "metadata": {
        "id": "kBwDgfpKA2rJ"
      }
    },
    {
      "cell_type": "code",
      "source": [
        "import numpy as np\n",
        "import matplotlib.pyplot as plt\n",
        "from scipy import stats\n",
        "\n",
        "# Sample dataset\n",
        "data = np.random.normal(50, 10, 100)\n",
        "\n",
        "# Calculate Z-scores\n",
        "z_scores = stats.zscore(data)\n",
        "\n",
        "# Plot histogram of Z-scores\n",
        "plt.hist(z_scores, bins=20, edgecolor='black', alpha=0.7)\n",
        "plt.title('Histogram of Z-scores')\n",
        "plt.xlabel('Z-score')\n",
        "plt.ylabel('Frequency')\n",
        "plt.show()\n",
        "\n",
        "# Explanation:\n",
        "# Z-scores measure how many standard deviations a data point is from the mean.\n",
        "# Z = 0 → exactly at the mean\n",
        "# Z = 1 → 1 standard deviation above mean\n",
        "# Z = -1 → 1 standard deviation below mean\n"
      ],
      "metadata": {
        "id": "umfpyc2BFpj4"
      },
      "execution_count": null,
      "outputs": []
    },
    {
      "cell_type": "markdown",
      "source": [],
      "metadata": {
        "id": "P81L0M1pA29R"
      }
    },
    {
      "cell_type": "markdown",
      "source": [],
      "metadata": {
        "id": "6XUkmCeDA3NR"
      }
    }
  ]
}