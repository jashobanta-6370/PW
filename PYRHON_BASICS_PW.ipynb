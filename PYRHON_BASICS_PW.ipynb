{
  "nbformat": 4,
  "nbformat_minor": 0,
  "metadata": {
    "colab": {
      "provenance": []
    },
    "kernelspec": {
      "name": "python3",
      "display_name": "Python 3"
    },
    "language_info": {
      "name": "python"
    }
  },
  "cells": [
    {
      "cell_type": "markdown",
      "source": [
        "#PYTHON BASICS\n",
        "\n",
        "#Q1-What is Python, and why is it popular?\n",
        "\n",
        "Python is a high-level, interpreted programming language known for its simplicity, readability, and versatility. It is popular because of its easy-to-learn syntax, making it beginner-friendly while still being powerful enough for advanced applications. Python is widely used in various fields such as web development, data science, artificial intelligence, automation, and cybersecurity. Its strong community support provides numerous libraries and frameworks that make development faster and more efficient. Additionally, Python is cross-platform compatible, allowing it to run seamlessly on Windows, macOS, and Linux, making it a preferred choice for developers worldwide.\n",
        "\n",
        "#Q2-What is an interpreter in Python ?\n",
        "An interpreter in Python is a program that executes Python code line by line, converting it into machine-readable instructions at runtime. Unlike compilers, which translate the entire code before execution, an interpreter processes code dynamically, making Python more flexible and easier to debug. Python's interpreter allows interactive execution, enabling developers to test and run code snippets quickly. Popular Python interpreters include CPython (the default), PyPy, Jython, and IronPython.\n",
        "\n",
        "#Q3-What are pre-defined keywords in Python ?\n",
        "Pre-defined keywords in Python are reserved words that have a special meaning and cannot be used as variable names, function names, or identifiers. These keywords define the syntax and structure of the language. Examples include if, else, while, for, def, class, try, except, and import. Since these keywords are predefined, they cannot be redefined or used for other purposes in Python programs.\n",
        "\n",
        "#Q4-Can keywords be used as variable names ?\n",
        "No, keywords cannot be used as variable names in Python. Since they have a special meaning within the language, using them as variables would cause syntax errors. For example, writing if = 10 is invalid because if is a reserved keyword used for conditional statements. However, Python allows slight modifications, such as adding an underscore (if_ = 10), to avoid conflicts.\n",
        "\n",
        "#Q5-What is mutability in Python ?\n",
        "Mutability in Python refers to whether an object’s state (values) can be changed after it is created. Mutable objects can be modified after creation, whereas immutable objects cannot. Lists, dictionaries, and sets are mutable, meaning their contents can be updated. On the other hand, tuples, strings, and integers are immutable, meaning their values cannot be changed once assigned.\n",
        "\n",
        "#Q6-Why are lists mutable, but tuples are immutable ?\n",
        "Lists are mutable because they allow modifications such as adding, removing, and changing elements. This is useful for dynamic collections of data. In contrast, tuples are immutable, meaning their elements cannot be changed once assigned. This makes tuples more memory-efficient and suitable for fixed data that should not be altered. The immutability of tuples ensures data integrity and allows them to be used as dictionary keys or set elements.\n",
        "\n",
        "#Q7-What is the difference between “==” and “is” operators in Python?\n",
        "The == operator checks for value equality, meaning it compares whether two variables hold the same data. The is operator, on the other hand, checks for identity equality, meaning it verifies if two variables reference the same memory location. For example, a = [1, 2, 3] and b = [1, 2, 3], then a == b is True because their values are the same, but a is b is False because they are different objects in memory.\n",
        "\n",
        "#Q8-What are logical operators in Python ?\n",
        "Logical operators in Python are used to perform logical operations on boolean values (True or False). The three logical operators are:\n",
        "\n",
        "and – Returns True if both conditions are true (x > 5 and x < 10).\n",
        "or – Returns True if at least one condition is true (x < 5 or x > 10).\n",
        "not – Negates the result (not x > 5 returns False if x > 5).\n",
        "Logical operators are commonly used in decision-making and control structures.\n",
        "\n",
        "#Q9-What is type casting in Python ?\n",
        "Type casting in Python is the process of converting one data type into another. Python allows both implicit and explicit type casting. Implicit casting happens automatically when Python converts one data type to another without loss of information, such as converting an integer to a float. Explicit casting requires the programmer to manually convert a variable’s type using functions like int(), float(), str(), or list().\n",
        "\n",
        "#Q10-What is the difference between implicit and explicit type casting ?\n",
        "Implicit type casting occurs automatically when Python converts a smaller data type to a larger one without data loss. For example, x = 5 + 2.5 results in x being a float (7.5). Explicit type casting, on the other hand, requires manual conversion using built-in functions. For instance, int(3.7) converts the float 3.7 into an integer 3, discarding the decimal part.\n",
        "\n",
        "#Q11-What is the purpose of conditional statements in Python ?\n",
        "Conditional statements in Python allow the program to make decisions based on specific conditions. Statements like if, elif, and else control the flow of execution by executing different blocks of code depending on whether conditions evaluate to True or False. These statements are essential for implementing logic in programs, such as validating user input, handling different scenarios, and creating decision-based workflows.\n",
        "\n",
        "#Q12-How does the elif statement work ?\n",
        "The elif (short for “else if”) statement is used to check multiple conditions in sequence. If the first if condition is false, the elif statement is evaluated. If it is true, the corresponding block of code is executed. If none of the if or elif conditions are met, the else block is executed. This helps reduce the need for multiple if statements and makes code more readable and efficient.\n",
        "\n",
        "#Q13-What is the difference between for and while loops ?\n",
        "A for loop is used when the number of iterations is known in advance, such as iterating through a list or a range of numbers. A while loop is used when the number of iterations is unknown and depends on a condition being True. For example, a for loop is ideal for iterating through a list, while a while loop is useful for running a process until a certain condition changes.\n",
        "\n",
        "#Q14-Describe a scenario where a while loop is more suitable than a for loop.\n",
        "\n",
        "A while loop is more suitable when we do not know the exact number of iterations needed beforehand. For example, in a login system, a while loop can keep prompting the user for a correct password until they enter the right one. Since the number of attempts is unpredictable, using a while loop ensures the program continues running until the correct condition is met.\n",
        "\n"
      ],
      "metadata": {
        "id": "Y4UuDBM_kOB7"
      }
    },
    {
      "cell_type": "markdown",
      "source": [],
      "metadata": {
        "id": "krIRot0VkTsR"
      }
    },
    {
      "cell_type": "markdown",
      "source": [],
      "metadata": {
        "id": "ayuA0yoskKCL"
      }
    },
    {
      "cell_type": "code",
      "source": [
        "# Q1-Write a Python program to print \"Hello, World!\"\n",
        "print(\"Hello, World!\")"
      ],
      "metadata": {
        "colab": {
          "base_uri": "https://localhost:8080/"
        },
        "id": "Q0khjgPpzQR3",
        "outputId": "347db22c-19f2-4c97-96f8-40d97fc55f9a"
      },
      "execution_count": 1,
      "outputs": [
        {
          "output_type": "stream",
          "name": "stdout",
          "text": [
            "Hello, World!\n"
          ]
        }
      ]
    },
    {
      "cell_type": "code",
      "source": [
        "# Q2-Write a Python program that displays your name and age.\n",
        "name = \"Jude\"\n",
        "age = 22\n",
        "print(f\"My name is {name} and I am {age} years old.\")"
      ],
      "metadata": {
        "colab": {
          "base_uri": "https://localhost:8080/"
        },
        "id": "XeoRp--tzjIy",
        "outputId": "63db6b7f-9d35-415b-b7e6-0602a3e4f799"
      },
      "execution_count": 3,
      "outputs": [
        {
          "output_type": "stream",
          "name": "stdout",
          "text": [
            "My name is Jude and I am 22 years old.\n"
          ]
        }
      ]
    },
    {
      "cell_type": "code",
      "source": [
        "# Q3-Write code to print all the pre-defined keywords in Python using the keyword library.\n",
        "import keyword\n",
        "print(keyword.kwlist)"
      ],
      "metadata": {
        "colab": {
          "base_uri": "https://localhost:8080/"
        },
        "id": "vYMZKsi3zoiT",
        "outputId": "fa22c856-6a0f-4ff7-9d16-6f41546c0cbb"
      },
      "execution_count": 4,
      "outputs": [
        {
          "output_type": "stream",
          "name": "stdout",
          "text": [
            "['False', 'None', 'True', 'and', 'as', 'assert', 'async', 'await', 'break', 'class', 'continue', 'def', 'del', 'elif', 'else', 'except', 'finally', 'for', 'from', 'global', 'if', 'import', 'in', 'is', 'lambda', 'nonlocal', 'not', 'or', 'pass', 'raise', 'return', 'try', 'while', 'with', 'yield']\n"
          ]
        }
      ]
    },
    {
      "cell_type": "code",
      "source": [
        "#Q4-Write a program that checks if a given word is a Python keyword.\n",
        "import keyword\n",
        "word = input(\"Enter a word: \")\n",
        "if keyword.iskeyword(word):\n",
        "    print(f\"{word} is a Python keyword.\")\n",
        "else:\n",
        "    print(f\"{word} is not a Python keyword.\")"
      ],
      "metadata": {
        "colab": {
          "base_uri": "https://localhost:8080/"
        },
        "id": "kyh9ZdB9z5yt",
        "outputId": "f3231d62-eb40-482b-daf7-102e24f1526b"
      },
      "execution_count": 6,
      "outputs": [
        {
          "output_type": "stream",
          "name": "stdout",
          "text": [
            "Enter a word: and\n",
            "and is a Python keyword.\n"
          ]
        }
      ]
    },
    {
      "cell_type": "code",
      "source": [
        "#Q5-Create a list and tuple in Python, and demonstrate how attempting to change an element works differently for each.\n",
        "my_list = [1, 2, 3]\n",
        "my_tuple = (1, 2, 3)\n",
        "\n",
        "# Modifying list\n",
        "my_list[0] = 10\n",
        "print(\"Modified list:\", my_list)\n",
        "\n",
        "# Trying to modify tuple (will raise an error)\n",
        "try:\n",
        "    my_tuple[0] = 10\n",
        "except TypeError:\n",
        "    print(\"Cannot modify a tuple as it is immutable.\")"
      ],
      "metadata": {
        "colab": {
          "base_uri": "https://localhost:8080/"
        },
        "id": "6qeJU9BR0F-d",
        "outputId": "438cf8a4-96c0-4716-ae42-a835d26d4194"
      },
      "execution_count": 7,
      "outputs": [
        {
          "output_type": "stream",
          "name": "stdout",
          "text": [
            "Modified list: [10, 2, 3]\n",
            "Cannot modify a tuple as it is immutable.\n"
          ]
        }
      ]
    },
    {
      "cell_type": "code",
      "source": [
        "#Q6-Write a function to demonstrate the behavior of mutable and immutable arguments.\n",
        "def modify_values(a, lst):\n",
        "    a += 10\n",
        "    lst.append(4)\n",
        "\n",
        "x = 5\n",
        "y = [1, 2, 3]\n",
        "\n",
        "modify_values(x, y)\n",
        "print(\"Integer (immutable) after function call:\", x)\n",
        "print(\"List (mutable) after function call:\", y)"
      ],
      "metadata": {
        "colab": {
          "base_uri": "https://localhost:8080/"
        },
        "id": "8Ml2d1hd1JAQ",
        "outputId": "6da01c88-a6af-49b4-ae61-e8c93bd85b36"
      },
      "execution_count": 8,
      "outputs": [
        {
          "output_type": "stream",
          "name": "stdout",
          "text": [
            "Integer (immutable) after function call: 5\n",
            "List (mutable) after function call: [1, 2, 3, 4]\n"
          ]
        }
      ]
    },
    {
      "cell_type": "code",
      "source": [
        "#Q7-Write a program that performs basic arithmetic operations on two user-input numbers.\n",
        "a = int(input(\"Enter first number: \"))\n",
        "b = int(input(\"Enter second number: \"))\n",
        "print(f\"Sum: {a + b}, Difference: {a - b}, Product: {a * b}, Quotient: {a / b}\")"
      ],
      "metadata": {
        "colab": {
          "base_uri": "https://localhost:8080/"
        },
        "id": "ySbbjEZ-1Yx5",
        "outputId": "d41843ea-a360-436a-97e3-0cd21a7f755d"
      },
      "execution_count": 9,
      "outputs": [
        {
          "output_type": "stream",
          "name": "stdout",
          "text": [
            "Enter first number: 34\n",
            "Enter second number: 56\n",
            "Sum: 90, Difference: -22, Product: 1904, Quotient: 0.6071428571428571\n"
          ]
        }
      ]
    },
    {
      "cell_type": "code",
      "source": [
        "#Q8-Write a program to demonstrate the use of logical operators\n",
        "x = True\n",
        "y = False\n",
        "print(\"x and y:\", x and y)\n",
        "print(\"x or y:\", x or y)\n",
        "print(\"not x:\", not x)"
      ],
      "metadata": {
        "colab": {
          "base_uri": "https://localhost:8080/"
        },
        "id": "7Z8wCznF1smy",
        "outputId": "93b790cf-01da-4232-defd-37192e357f43"
      },
      "execution_count": 10,
      "outputs": [
        {
          "output_type": "stream",
          "name": "stdout",
          "text": [
            "x and y: False\n",
            "x or y: True\n",
            "not x: False\n"
          ]
        }
      ]
    },
    {
      "cell_type": "code",
      "source": [
        "#Q9-Write a Python program to convert user input from string to integer, float, and boolean types.\n",
        "user_input = input(\"Enter a value: \")\n",
        "print(\"Integer:\", int(user_input))\n",
        "print(\"Float:\", float(user_input))\n",
        "print(\"Boolean:\", bool(user_input))"
      ],
      "metadata": {
        "colab": {
          "base_uri": "https://localhost:8080/"
        },
        "id": "wiC4bZ1118Pc",
        "outputId": "70e87a6f-81be-44a1-e503-97cbab34b780"
      },
      "execution_count": 11,
      "outputs": [
        {
          "output_type": "stream",
          "name": "stdout",
          "text": [
            "Enter a value: 45\n",
            "Integer: 45\n",
            "Float: 45.0\n",
            "Boolean: True\n"
          ]
        }
      ]
    },
    {
      "cell_type": "code",
      "source": [
        "#Q10-Write code to demonstrate type casting with list elements.\n",
        "str_list = [\"1\", \"2\", \"3\"]\n",
        "int_list = list(map(int, str_list))\n",
        "print(\"Converted list:\", int_list)"
      ],
      "metadata": {
        "colab": {
          "base_uri": "https://localhost:8080/"
        },
        "id": "-eJys4MS2GnW",
        "outputId": "3b0ce0da-a68f-49be-c5d5-5873aced0501"
      },
      "execution_count": 12,
      "outputs": [
        {
          "output_type": "stream",
          "name": "stdout",
          "text": [
            "Converted list: [1, 2, 3]\n"
          ]
        }
      ]
    },
    {
      "cell_type": "code",
      "source": [
        "#Q11-Write a program that checks if a number is positive, negative, or zero.\n",
        "num = int(input(\"Enter a number: \"))\n",
        "if num > 0:\n",
        "    print(\"Positive number\")\n",
        "elif num < 0:\n",
        "    print(\"Negative number\")\n",
        "else:\n",
        "    print(\"Zero\")"
      ],
      "metadata": {
        "colab": {
          "base_uri": "https://localhost:8080/"
        },
        "id": "-P4cqCKp2RlD",
        "outputId": "e127a703-f540-49f1-bdf0-8009e37d84ad"
      },
      "execution_count": 13,
      "outputs": [
        {
          "output_type": "stream",
          "name": "stdout",
          "text": [
            "Enter a number: 34\n",
            "Positive number\n"
          ]
        }
      ]
    },
    {
      "cell_type": "code",
      "source": [
        "#Q12-Write a for loop to print numbers from 1 to 10.\n",
        "for i in range(1, 11):\n",
        "    print(i)"
      ],
      "metadata": {
        "colab": {
          "base_uri": "https://localhost:8080/"
        },
        "id": "unRk9Kyv2Zwv",
        "outputId": "30ebf2b8-e513-4323-a55f-586d93fe9922"
      },
      "execution_count": 14,
      "outputs": [
        {
          "output_type": "stream",
          "name": "stdout",
          "text": [
            "1\n",
            "2\n",
            "3\n",
            "4\n",
            "5\n",
            "6\n",
            "7\n",
            "8\n",
            "9\n",
            "10\n"
          ]
        }
      ]
    },
    {
      "cell_type": "code",
      "source": [
        "#Q13-Write a Python program to find the sum of all even numbers between 1 and 50.\n",
        "print(\"Sum of even numbers from 1 to 50:\", sum(i for i in range(1, 51) if i % 2 == 0))"
      ],
      "metadata": {
        "colab": {
          "base_uri": "https://localhost:8080/"
        },
        "id": "s-EieWwj2m2d",
        "outputId": "90166202-0a89-4f7b-a77d-fb6e18dc0e89"
      },
      "execution_count": 15,
      "outputs": [
        {
          "output_type": "stream",
          "name": "stdout",
          "text": [
            "Sum of even numbers from 1 to 50: 650\n"
          ]
        }
      ]
    },
    {
      "cell_type": "code",
      "source": [
        "#Q14-Write a program to reverse a string using a while loop.\n",
        "s = input(\"Enter a string: \")\n",
        "reversed_s = \"\"\n",
        "i = len(s) - 1\n",
        "while i >= 0:\n",
        "    reversed_s += s[i]\n",
        "    i -= 1\n",
        "print(\"Reversed string:\", reversed_s)"
      ],
      "metadata": {
        "colab": {
          "base_uri": "https://localhost:8080/"
        },
        "id": "8Zu9r6Uz2ujv",
        "outputId": "d0dab02c-47cc-43dd-ae3f-e3128dbe06bc"
      },
      "execution_count": 17,
      "outputs": [
        {
          "output_type": "stream",
          "name": "stdout",
          "text": [
            "Enter a string: gautam\n",
            "Reversed string: matuag\n"
          ]
        }
      ]
    },
    {
      "cell_type": "code",
      "source": [
        "#Q15-Write a Python program to calculate the factorial of a number provided by the user using a while loop.\n",
        "num = int(input(\"Enter a number: \"))\n",
        "factorial = 1\n",
        "while num > 1:\n",
        "    factorial *= num\n",
        "    num -= 1\n",
        "print(\"Factorial:\", factorial)"
      ],
      "metadata": {
        "colab": {
          "base_uri": "https://localhost:8080/"
        },
        "id": "S-FeFpJQ2y3I",
        "outputId": "cb84c649-9640-40cf-bc2e-1e357551d941"
      },
      "execution_count": 18,
      "outputs": [
        {
          "output_type": "stream",
          "name": "stdout",
          "text": [
            "Enter a number: 34\n",
            "Factorial: 295232799039604140847618609643520000000\n"
          ]
        }
      ]
    },
    {
      "cell_type": "code",
      "source": [],
      "metadata": {
        "id": "Om1KeOiP3Aub"
      },
      "execution_count": null,
      "outputs": []
    }
  ]
}