{
  "nbformat": 4,
  "nbformat_minor": 0,
  "metadata": {
    "colab": {
      "provenance": []
    },
    "kernelspec": {
      "name": "python3",
      "display_name": "Python 3"
    },
    "language_info": {
      "name": "python"
    }
  },
  "cells": [
    {
      "cell_type": "code",
      "execution_count": null,
      "metadata": {
        "id": "57DK8d3BqZqM"
      },
      "outputs": [],
      "source": []
    },
    {
      "cell_type": "markdown",
      "source": [
        "#Q1-What is the difference between interpreted and compiled languages?\n",
        "Interpreted languages execute code line-by-line at runtime (e.g., Python), while compiled languages translate the whole code into machine code before execution (e.g., C++), leading to faster performance.\n",
        "#Q2-What is exception handling in Python?\n",
        "It is a mechanism to catch and manage runtime errors using try, except, finally, and else blocks, preventing program crashes.\n",
        "#Q3-What is the purpose of the finally block in exception handling?\n",
        "The finally block executes code regardless of whether an exception occurred, typically used for cleanup actions like closing files.\n",
        "#Q4-What is logging in Python?\n",
        "Logging is used to record events, errors, or information during code execution, helping in debugging and monitoring.\n",
        "#Q5-What is the significance of the __del__ method in Python?\n",
        "__del__ is a destructor method called when an object is about to be destroyed, allowing cleanup like closing files or releasing resources.\n",
        "#Q6-What is the difference between import and from ... import in Python?\n",
        "import imports the entire module, while from ... import imports specific parts, making code more readable and efficient.\n",
        "#Q7-How can you handle multiple exceptions in Python?\n",
        "Use multiple except blocks for different exception types or a single block with a tuple of exceptions.\n",
        "#Q8-What is the purpose of the with statement when handling files in Python?\n",
        "It ensures proper acquisition and release of file resources, automatically closing the file even if errors occur.\n",
        "#Q9-What is the difference between multithreading and multiprocessing?\n",
        "Multithreading runs threads in the same process, sharing memory; multiprocessing runs separate processes with independent memory, avoiding GIL issues in Python.\n",
        "#Q10-What are the advantages of using logging in a program?\n",
        "Provides a better way to track errors, debug code, and maintain logs for auditing without interrupting program execution.\n",
        "#Q11-What is memory management in Python?\n",
        "Python uses automatic memory management with reference counting and a garbage collector to reclaim unused memory.\n",
        "#Q12-What are the basic steps involved in exception handling in Python?\n",
        "Use try to wrap risky code, except to handle exceptions, else to run if no error, and finally to execute cleanup code.\n",
        "#Q13-Why is memory management important in Python?\n",
        "It helps optimize resource usage, prevent memory leaks, and ensure smooth execution of programs.\n",
        "#Q14-What is the role of try and except in exception handling?\n",
        "The try block holds code that may cause errors; except handles the error to prevent program crashes.\n",
        "#Q15-How does Python’s garbage collection system work?\n",
        "It automatically detects and deletes objects no longer in use using reference counting and a cyclic garbage collector.\n",
        "#Q16-What is the purpose of the else block in exception handling?\n",
        "Runs only if the try block doesn’t raise any exceptions, useful for code that should execute on success.\n",
        "#Q17-What are the common logging levels in Python?\n",
        "DEBUG, INFO, WARNING, ERROR, and CRITICAL, used to classify the severity of events.\n",
        "#Q18-What is the difference between os.fork() and the multiprocessing module in Python?\n",
        "os.fork() is Unix-only and low-level, creating child processes, while multiprocessing is cross-platform and higher-level.\n",
        "#Q19-What is the importance of closing a file in Python?\n",
        "Frees system resources and ensures that all data is properly written and saved to the file.\n",
        "#Q20-What is the difference between file.read() and file.readline() in Python?\n",
        "file.read() reads the entire file content at once; file.readline() reads one line at a time.\n",
        "#Q21-What is the logging module in Python used for?\n",
        "It provides a flexible way to track events in programs, log messages, and debug or audit code execution.\n",
        "#Q22-What is the os module in Python used for in file handling?\n",
        "It provides functions to interact with the operating system, like creating, removing, or navigating files and directories.\n",
        "#Q23-What are the challenges associated with memory management in Python?\n",
        "Circular references, memory leaks, and managing large data structures can complicate efficient memory usage.\n",
        "#Q24-How do you raise an exception manually in Python?\n",
        "Use the raise keyword with an exception type, e.g., raise ValueError(\"Invalid input\").\n",
        "#Q25-Why is it important to use multithreading in certain applications?\n",
        "It allows concurrent execution of tasks, improving performance in I/O-bound operations like network or file access.\n"
      ],
      "metadata": {
        "id": "jfB94FJurNGS"
      }
    },
    {
      "cell_type": "code",
      "source": [],
      "metadata": {
        "id": "vu3ywqcQu5ma"
      },
      "execution_count": null,
      "outputs": []
    },
    {
      "cell_type": "code",
      "source": [],
      "metadata": {
        "id": "fWadaR_Zu6Vn"
      },
      "execution_count": null,
      "outputs": []
    },
    {
      "cell_type": "code",
      "source": [],
      "metadata": {
        "id": "BCMUoXXXwzbI"
      },
      "execution_count": null,
      "outputs": []
    },
    {
      "cell_type": "markdown",
      "source": [
        "\n",
        "\n"
      ],
      "metadata": {
        "id": "kzX0TrgJw9TH"
      }
    },
    {
      "cell_type": "code",
      "source": [],
      "metadata": {
        "id": "LLk4myM_28yO"
      },
      "execution_count": null,
      "outputs": []
    },
    {
      "cell_type": "code",
      "source": [],
      "metadata": {
        "id": "IPABZHln29Pj"
      },
      "execution_count": null,
      "outputs": []
    },
    {
      "cell_type": "code",
      "source": [
        "#Q2Write a Python program to read the contents of a file and print each line.\n",
        "with open(\"file.txt\", \"r\") as file:\n",
        "    for line in file:\n",
        "        print(line.strip())"
      ],
      "metadata": {
        "id": "bcY72wHl29jf"
      },
      "execution_count": null,
      "outputs": []
    },
    {
      "cell_type": "code",
      "source": [
        "#Q1How can you open a file for writing in Python and write a string to it?\n",
        "Use with open(\"filename.txt\", \"w\") as file: and then file.write(\"your string\").\n",
        "#Q2Write a Python program to read the contents of a file and print each line.\n",
        "with open(\"file.txt\", \"r\") as file:\n",
        "    for line in file:\n",
        "        print(line.strip())\n",
        "#Q3How would you handle a case where the file doesn't exist while trying to open it for reading?\n",
        "Use a try-except block to catch FileNotFoundError.\n",
        "#Q4Write a Python script that reads from one file and writes its content to another file.\n",
        "with open(\"source.txt\", \"r\") as src, open(\"destination.txt\", \"w\") as dest:\n",
        "    dest.write(src.read())\n",
        "\n",
        "#Q5How would you catch and handle a division by zero error in Python?\n",
        "Use a try block for the division and catch ZeroDivisionError in the except.\n",
        "#Q6Write a Python program that logs an error message to a log file when a division by zero exception occurs.\n",
        "import logging\n",
        "logging.basicConfig(filename=\"error.log\", level=logging.ERROR)\n",
        "try:\n",
        "    x = 1 / 0\n",
        "except ZeroDivisionError as e:\n",
        "    logging.error(f\"Division error: {e}\")\n",
        "\n",
        "#Q7How do you log information at different levels (INFO, ERROR, WARNING) in Python using the logging module?\n",
        "Use logging.info(), logging.warning(), logging.error(), etc. after setting up logging.\n",
        "#Q8Write a program to handle a file opening error using exception handling.\n",
        "try:\n",
        "    with open(\"file.txt\", \"r\") as f:\n",
        "        content = f.read()\n",
        "except FileNotFoundError:\n",
        "    print(\"File not found.\")\n",
        "\n",
        "#Q9How can you read a file line by line and store its content in a list in Python?\n",
        "with open(\"file.txt\", \"r\") as file:\n",
        "    lines = file.readlines()\n",
        "\n",
        "#Q10How can you append data to an existing file in Python?\n",
        "Use open(\"file.txt\", \"a\") mode and file.write(\"your data\").\n",
        "#Q11Write a Python program that uses a try-except block to handle an error when attempting to access a dictionary key that doesn't exist.\n",
        "d = {\"name\": \"Jude\"}\n",
        "try:\n",
        "    print(d[\"age\"])\n",
        "except KeyError:\n",
        "    print(\"Key not found.\")\n",
        "\n",
        "#Q12Write a program that demonstrates using multiple except blocks to handle different types of exceptions.\n",
        "try:\n",
        "    a = 1 / 0\n",
        "except ZeroDivisionError:\n",
        "    print(\"Division by zero!\")\n",
        "except ValueError:\n",
        "    print(\"Invalid value!\")"
      ],
      "metadata": {
        "id": "whHFd4sO29z9"
      },
      "execution_count": null,
      "outputs": []
    },
    {
      "cell_type": "code",
      "source": [
        "#Q13How would you check if a file exists before attempting to read it in Python?\n",
        "import os\n",
        "if os.path.exists(\"file.txt\"):\n",
        "    with open(\"file.txt\", \"r\") as f:\n",
        "        print(f.read())\n",
        "else:\n",
        "    print(\"File doesn't exist.\")\n",
        "\n",
        "#Q14Write a program that uses the logging module to log both informational and error messages.\n",
        "import logging\n",
        "logging.basicConfig(level=logging.INFO)\n",
        "logging.info(\"Starting program.\")\n",
        "logging.error(\"An error occurred.\")\n",
        "\n",
        "#Q15Write a Python program that prints the content of a file and handles the case when the file is empty.\n",
        "with open(\"file.txt\", \"r\") as file:\n",
        "    content = file.read()\n",
        "    if content:\n",
        "        print(content)\n",
        "    else:\n",
        "        print(\"File is empty.\")\n",
        "\n",
        "#Q16Demonstrate how to use memory profiling to check the memory usage of a small program.\n",
        "Use memory_profiler module and @profile decorator. Requires installing memory_profiler.\n",
        "#Q17Write a Python program to create and write a list of numbers to a file, one number per line.\n",
        "numbers = [1, 2, 3, 4]\n",
        "with open(\"numbers.txt\", \"w\") as f:\n",
        "    for number in numbers:\n",
        "        f.write(f\"{number}\\n\")\n",
        "\n",
        "#Q18How would you implement a basic logging setup that logs to a file with rotation after 1MB?\n",
        "import logging\n",
        "from logging.handlers import RotatingFileHandler\n",
        "\n",
        "handler = RotatingFileHandler(\"app.log\", maxBytes=1_000_000, backupCount=3)\n",
        "logging.basicConfig(handlers=[handler], level=logging.INFO)\n",
        "logging.info(\"Logging with rotation.\")\n",
        "\n",
        "#Q19Write a program that handles both IndexError and KeyError using a try-except block.\n",
        "try:\n",
        "    lst = [1]\n",
        "    print(lst[5])\n",
        "    d = {}\n",
        "    print(d[\"key\"])\n",
        "except IndexError:\n",
        "    print(\"Index error caught.\")\n",
        "except KeyError:\n",
        "    print(\"Key error caught.\")\n",
        "\n",
        "#Q20How would you open a file and read its contents using a context manager in Python?\n",
        "with open(\"file.txt\", \"r\") as f:\n",
        "    print(f.read())\n",
        "\n",
        "#Q21Write a Python program that reads a file and prints the number of occurrences of a specific word.\n",
        "word = \"python\"\n",
        "count = 0\n",
        "with open(\"file.txt\", \"r\") as f:\n",
        "    for line in f:\n",
        "        count += line.lower().count(word)\n",
        "print(\"Occurrences:\", count)\n",
        "\n",
        "#Q22How can you check if a file is empty before attempting to read its contents?\n",
        "if os.path.getsize(\"file.txt\") == 0:\n",
        "    print(\"File is empty.\")\n",
        "else:\n",
        "    with open(\"file.txt\", \"r\") as f:\n",
        "        print(f.read())\n",
        "\n",
        "#Q23Write a Python program that writes to a log file when an error occurs during file handling.\n",
        "import logging\n",
        "logging.basicConfig(filename=\"file_errors.log\", level=logging.ERROR)\n",
        "try:\n",
        "    with open(\"nofile.txt\", \"r\") as f:\n",
        "        data = f.read()\n",
        "except FileNotFoundError as e:\n",
        "    logging.error(f\"Error opening file: {e}\")\n"
      ],
      "metadata": {
        "id": "52ggR6642-JT"
      },
      "execution_count": null,
      "outputs": []
    },
    {
      "cell_type": "code",
      "source": [],
      "metadata": {
        "id": "LjPv1AkN2-yj"
      },
      "execution_count": null,
      "outputs": []
    }
  ]
}